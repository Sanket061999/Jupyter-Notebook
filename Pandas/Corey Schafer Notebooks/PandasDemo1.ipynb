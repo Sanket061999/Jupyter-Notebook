{
 "cells": [
  {
   "cell_type": "code",
   "execution_count": 1,
   "id": "1f0b1c95-208f-4813-a26f-61fc00ecda55",
   "metadata": {},
   "outputs": [],
   "source": [
    "import pandas as pd"
   ]
  },
  {
   "cell_type": "code",
   "execution_count": 2,
   "id": "6d671224-a96a-438c-b93c-0867eee6843a",
   "metadata": {},
   "outputs": [],
   "source": [
    "df=pd.read_csv(r'C:\\Users\\deshmuks\\OneDrive - Landis+Gyr\\Desktop\\Python\\Pandas\\survey_results_public.csv')\n",
    "schema_df=pd.read_csv(r'C:\\Users\\deshmuks\\OneDrive - Landis+Gyr\\Desktop\\Python\\Pandas\\survey_results_schema.csv')"
   ]
  },
  {
   "cell_type": "code",
   "execution_count": 10,
   "id": "7be394c7-6a24-40c5-8751-bf2d6aa94fbc",
   "metadata": {},
   "outputs": [],
   "source": [
    "schema_df=pd.read_csv(r'C:\\Users\\deshmuks\\OneDrive - Landis+Gyr\\Desktop\\Python\\Pandas\\survey_results_schema.csv')"
   ]
  },
  {
   "cell_type": "code",
   "execution_count": null,
   "id": "f04397e1-3f7d-4b34-a11e-ebe51b0041c6",
   "metadata": {},
   "outputs": [],
   "source": [
    "df"
   ]
  },
  {
   "cell_type": "code",
   "execution_count": 13,
   "id": "6992db0a-7077-4ea8-8f3c-59281ef7bd73",
   "metadata": {},
   "outputs": [
    {
     "data": {
      "text/plain": [
       "(88883, 85)"
      ]
     },
     "execution_count": 13,
     "metadata": {},
     "output_type": "execute_result"
    }
   ],
   "source": [
    "df.shape  #Its an attribute which return no. of rows and column"
   ]
  },
  {
   "cell_type": "code",
   "execution_count": null,
   "id": "a31630ad-9279-40da-a817-e3203298bc33",
   "metadata": {},
   "outputs": [],
   "source": [
    "df.info()  #Its an method which return no. of rows and its schema"
   ]
  },
  {
   "cell_type": "code",
   "execution_count": 23,
   "id": "37e034e2-0eea-44cc-b51d-84f1824e9605",
   "metadata": {},
   "outputs": [],
   "source": [
    "pd.set_option('display.max_columns',85)\n",
    "pd.set_option('display.max_rows',85)"
   ]
  },
  {
   "cell_type": "code",
   "execution_count": null,
   "id": "a3d645af-a2dc-4481-b1dc-fac815b5dfdd",
   "metadata": {},
   "outputs": [],
   "source": [
    "schema_df"
   ]
  },
  {
   "cell_type": "code",
   "execution_count": null,
   "id": "9fb7e5ad-771a-4f9e-b5b0-b8b7277609ac",
   "metadata": {
    "scrolled": true
   },
   "outputs": [],
   "source": [
    "df.head(10) # it give top 10 records"
   ]
  },
  {
   "cell_type": "code",
   "execution_count": null,
   "id": "ce4b3ae4-3ccb-4453-9dad-20fedb4d3697",
   "metadata": {},
   "outputs": [],
   "source": [
    "df.tail() #print last 5 records"
   ]
  },
  {
   "cell_type": "code",
   "execution_count": null,
   "id": "9e9c7d29-8e1a-449c-b9a2-0f2ff2853eb3",
   "metadata": {},
   "outputs": [],
   "source": [
    "df.tail(10) #print last 10 record"
   ]
  },
  {
   "cell_type": "code",
   "execution_count": null,
   "id": "a5204681-6cc5-4551-a28d-9cb47f893113",
   "metadata": {},
   "outputs": [],
   "source": []
  }
 ],
 "metadata": {
  "kernelspec": {
   "display_name": "Python 3 (ipykernel)",
   "language": "python",
   "name": "python3"
  },
  "language_info": {
   "codemirror_mode": {
    "name": "ipython",
    "version": 3
   },
   "file_extension": ".py",
   "mimetype": "text/x-python",
   "name": "python",
   "nbconvert_exporter": "python",
   "pygments_lexer": "ipython3",
   "version": "3.12.1"
  }
 },
 "nbformat": 4,
 "nbformat_minor": 5
}
