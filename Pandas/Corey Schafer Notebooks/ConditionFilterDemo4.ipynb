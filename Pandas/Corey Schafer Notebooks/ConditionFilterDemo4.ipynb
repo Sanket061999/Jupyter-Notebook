{
 "cells": [
  {
   "cell_type": "code",
   "execution_count": null,
   "id": "be96c8aa-4c38-4db6-8c33-39913e7ea1ac",
   "metadata": {},
   "outputs": [],
   "source": [
    "import pandas as pd\n",
    "people={\n",
    "    \"first\":[\"Corey\",\"Jane\",\"John\"],\n",
    "    \"last\":[\"Schafer\",\"Doe\",\"Doe\"],\n",
    "    \"email\":[\"coreyschafer@gmail.com\",\"janedoe@gmail.com\",\"johndoe@gmail.com\"]\n",
    "}\n",
    "df=pd.DataFrame(people)"
   ]
  },
  {
   "cell_type": "code",
   "execution_count": null,
   "id": "2fee1672-ab8d-47a7-a60f-b09fbdfdcaa3",
   "metadata": {},
   "outputs": [],
   "source": [
    "filt= (df['last']=='Doe')"
   ]
  },
  {
   "cell_type": "code",
   "execution_count": null,
   "id": "bc40a2db-177b-4ed1-8710-8cb9a168dc10",
   "metadata": {},
   "outputs": [],
   "source": [
    "df[filt]"
   ]
  },
  {
   "cell_type": "code",
   "execution_count": null,
   "id": "919c2bf9-fa74-4659-86a0-f9a4a2dcb128",
   "metadata": {},
   "outputs": [],
   "source": [
    "#or another way\n",
    "df[df['last']=='Doe']"
   ]
  },
  {
   "cell_type": "code",
   "execution_count": null,
   "id": "eab6cce4-ea4a-4640-b454-6d0ad190f4cb",
   "metadata": {},
   "outputs": [],
   "source": [
    "df.loc[filt,'email']  #first column is row and second column is column name"
   ]
  },
  {
   "cell_type": "code",
   "execution_count": null,
   "id": "77106d04-fc69-4639-b7c2-cbe44addc338",
   "metadata": {},
   "outputs": [],
   "source": [
    "filt= (df['last']=='Doe') & (df['first']=='John')"
   ]
  },
  {
   "cell_type": "code",
   "execution_count": null,
   "id": "f4bb6bb3-9a54-415c-9070-f28d63c83073",
   "metadata": {},
   "outputs": [],
   "source": [
    "df.loc[filt,\"email\"]"
   ]
  },
  {
   "cell_type": "code",
   "execution_count": null,
   "id": "d3c613eb-5256-4af5-bbb9-8f6c7593b6ec",
   "metadata": {},
   "outputs": [],
   "source": [
    "filt= (df['last']=='Schafer') | (df['first']=='John')"
   ]
  },
  {
   "cell_type": "code",
   "execution_count": null,
   "id": "48d4c453-e32f-4fb3-b0bd-a12ea4ef9ba7",
   "metadata": {},
   "outputs": [],
   "source": [
    "df.loc[filt,['email','first']]"
   ]
  },
  {
   "cell_type": "code",
   "execution_count": null,
   "id": "de68ff03-593e-4e7c-891d-9cb0dbdf3bd9",
   "metadata": {},
   "outputs": [],
   "source": [
    "df.loc[~filt,['email','first']]"
   ]
  },
  {
   "cell_type": "code",
   "execution_count": null,
   "id": "d218d2af-48c3-4ef5-b47d-751934e8d902",
   "metadata": {},
   "outputs": [],
   "source": [
    "import pandas as pd\n",
    "df=pd.read_csv(r'C:\\Users\\deshmuks\\OneDrive - Landis+Gyr\\Desktop\\Python\\Pandas\\survey_results_public.csv',index_col='Respondent')\n",
    "schema_df=pd.read_csv(r'C:\\Users\\deshmuks\\OneDrive - Landis+Gyr\\Desktop\\Python\\Pandas\\survey_results_schema.csv',index_col='Column')\n",
    "pd.set_option('display.max_columns',85)\n",
    "pd.set_option('display.max_rows',85)"
   ]
  },
  {
   "cell_type": "code",
   "execution_count": null,
   "id": "1d8ef3d1-ee15-47fc-824f-98b2a7a52339",
   "metadata": {
    "scrolled": true
   },
   "outputs": [],
   "source": [
    "df.head()"
   ]
  },
  {
   "cell_type": "code",
   "execution_count": null,
   "id": "7085eaeb-15e3-453a-a1b1-c5ac948dd118",
   "metadata": {},
   "outputs": [],
   "source": [
    "high_salary=(df['ConvertedComp']>70000)"
   ]
  },
  {
   "cell_type": "code",
   "execution_count": null,
   "id": "d2eb663a-6e05-4dc2-acfe-628bce2f0fb2",
   "metadata": {},
   "outputs": [],
   "source": [
    "df.loc[high_salary]"
   ]
  },
  {
   "cell_type": "code",
   "execution_count": null,
   "id": "4760802c-af80-443d-9be2-8c67e4ee6fec",
   "metadata": {
    "scrolled": true
   },
   "outputs": [],
   "source": [
    "df.loc[high_salary]  #rows"
   ]
  },
  {
   "cell_type": "code",
   "execution_count": null,
   "id": "eccd88c4-adba-408c-aee1-db183eb84bdc",
   "metadata": {},
   "outputs": [],
   "source": [
    "df.loc[high_salary,['Country','LanguageWorkedWith','ConvertedComp']]"
   ]
  },
  {
   "cell_type": "code",
   "execution_count": null,
   "id": "08d0e6ca-000b-455d-80b8-82b9289ffa6c",
   "metadata": {},
   "outputs": [],
   "source": [
    "countries=['United State','India', 'United Kingdom', 'Germany', 'Canada']\n",
    "filt=df['Country'].isin(countries)"
   ]
  },
  {
   "cell_type": "code",
   "execution_count": null,
   "id": "66649c93-b046-4f33-83a8-152c4af1b36c",
   "metadata": {},
   "outputs": [],
   "source": [
    "df.loc[filt,'Country']"
   ]
  },
  {
   "cell_type": "code",
   "execution_count": null,
   "id": "5897da6d-f0b9-4b46-97d0-6b46054487b9",
   "metadata": {},
   "outputs": [],
   "source": [
    "df['LanguageWorkedWith']"
   ]
  },
  {
   "cell_type": "code",
   "execution_count": 64,
   "id": "f80ec1b3-082b-43aa-84a3-dfcdb0e054f2",
   "metadata": {},
   "outputs": [],
   "source": [
    "filt=df['LanguageWorkedWith'].str.contains('Python',na=False)"
   ]
  },
  {
   "cell_type": "code",
   "execution_count": 65,
   "id": "4543afe0-c653-4ea2-bd4c-ea1c37889931",
   "metadata": {},
   "outputs": [
    {
     "data": {
      "text/plain": [
       "Respondent\n",
       "1         True\n",
       "2         True\n",
       "3        False\n",
       "4         True\n",
       "5         True\n",
       "         ...  \n",
       "88377    False\n",
       "88601    False\n",
       "88802    False\n",
       "88816    False\n",
       "88863    False\n",
       "Name: LanguageWorkedWith, Length: 88883, dtype: bool"
      ]
     },
     "execution_count": 65,
     "metadata": {},
     "output_type": "execute_result"
    }
   ],
   "source": [
    "filt"
   ]
  },
  {
   "cell_type": "code",
   "execution_count": null,
   "id": "e878d3f1-336b-454e-96bb-6d9ff83cda76",
   "metadata": {},
   "outputs": [],
   "source": [
    "df.loc[filt,'Country']"
   ]
  },
  {
   "cell_type": "code",
   "execution_count": null,
   "id": "289c2d4e-3bed-4c98-9865-480d3a93af1d",
   "metadata": {},
   "outputs": [],
   "source": [
    "df.loc[filt ,['LanguageWorkedWith','Country']]"
   ]
  },
  {
   "cell_type": "code",
   "execution_count": null,
   "id": "af8ab422-e90d-4175-b04f-7908a190be8a",
   "metadata": {},
   "outputs": [],
   "source": []
  }
 ],
 "metadata": {
  "kernelspec": {
   "display_name": "Python 3 (ipykernel)",
   "language": "python",
   "name": "python3"
  },
  "language_info": {
   "codemirror_mode": {
    "name": "ipython",
    "version": 3
   },
   "file_extension": ".py",
   "mimetype": "text/x-python",
   "name": "python",
   "nbconvert_exporter": "python",
   "pygments_lexer": "ipython3",
   "version": "3.12.1"
  }
 },
 "nbformat": 4,
 "nbformat_minor": 5
}
