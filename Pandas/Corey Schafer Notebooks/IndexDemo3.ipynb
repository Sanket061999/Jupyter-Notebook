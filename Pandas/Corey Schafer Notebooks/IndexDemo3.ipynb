{
 "cells": [
  {
   "cell_type": "code",
   "execution_count": null,
   "id": "712b73bd-d912-493e-a053-14a3275139d7",
   "metadata": {},
   "outputs": [],
   "source": [
    "import pandas as pd\n",
    "df=pd.read_csv(r'C:\\Users\\deshmuks\\OneDrive - Landis+Gyr\\Desktop\\Python\\Pandas\\survey_results_public.csv')\n",
    "schema_df=pd.read_csv(r'C:\\Users\\deshmuks\\OneDrive - Landis+Gyr\\Desktop\\Python\\Pandas\\survey_results_schema.csv')\n",
    "pd.set_option('display.max_columns',85)\n",
    "pd.set_option('display.max_rows',85)"
   ]
  },
  {
   "cell_type": "code",
   "execution_count": null,
   "id": "4df6a3da-6e5d-4230-8ca9-cd007da1efa1",
   "metadata": {
    "scrolled": true
   },
   "outputs": [],
   "source": [
    "df"
   ]
  },
  {
   "cell_type": "code",
   "execution_count": null,
   "id": "61c7d7ee-3570-4217-a010-94a9fcfff70e",
   "metadata": {},
   "outputs": [],
   "source": [
    "# We can use respondant column as index\n",
    "df=pd.read_csv(r'C:\\Users\\deshmuks\\OneDrive - Landis+Gyr\\Desktop\\Python\\Pandas\\survey_results_public.csv',index_col='Respondent')\n",
    "schema_df=pd.read_csv(r'C:\\Users\\deshmuks\\OneDrive - Landis+Gyr\\Desktop\\Python\\Pandas\\survey_results_schema.csv',index_col='Column')"
   ]
  },
  {
   "cell_type": "code",
   "execution_count": null,
   "id": "0a865131-052d-486f-b050-8f933541c816",
   "metadata": {},
   "outputs": [],
   "source": [
    "df"
   ]
  },
  {
   "cell_type": "code",
   "execution_count": null,
   "id": "c244cb1a-6dfb-4843-bb93-6b1827b1ad41",
   "metadata": {},
   "outputs": [],
   "source": [
    "df.loc[1]  #we dont have 0 with using index column as Column as mentioned above"
   ]
  },
  {
   "cell_type": "code",
   "execution_count": null,
   "id": "06beec20-bc65-4eb9-96e1-88130ce56a5b",
   "metadata": {},
   "outputs": [],
   "source": [
    "schema_df"
   ]
  },
  {
   "cell_type": "code",
   "execution_count": null,
   "id": "7834161b-5d65-42c8-9c43-f28e4d85927f",
   "metadata": {},
   "outputs": [],
   "source": [
    "schema_df.loc['Hobbyist'] #row"
   ]
  },
  {
   "cell_type": "code",
   "execution_count": null,
   "id": "a6d6ac3e-6775-4973-975a-3ed234900939",
   "metadata": {},
   "outputs": [],
   "source": [
    "schema_df.loc['MgrIdiot']  #row"
   ]
  },
  {
   "cell_type": "code",
   "execution_count": 67,
   "id": "6391c558-2197-4a6a-bbbf-830241b68810",
   "metadata": {},
   "outputs": [
    {
     "data": {
      "text/plain": [
       "'How confident are you that your manager knows what they’re doing?'"
      ]
     },
     "execution_count": 67,
     "metadata": {},
     "output_type": "execute_result"
    }
   ],
   "source": [
    "schema_df.loc['MgrIdiot','QuestionText']  #1 row and 1 column "
   ]
  },
  {
   "cell_type": "code",
   "execution_count": null,
   "id": "0aa68254-4864-4750-88f0-2dd60f039015",
   "metadata": {},
   "outputs": [],
   "source": [
    "#to sort using index\n",
    "schema_df.sort_index()  #To sort ascending\n",
    "#schema_df.sort_index(ascending=False)  #To sort descending \n",
    "#If we pass inplace=True then it modify the dataframe"
   ]
  },
  {
   "cell_type": "code",
   "execution_count": null,
   "id": "f6354ab4-1b24-430d-b08f-f2d7af73aa47",
   "metadata": {},
   "outputs": [],
   "source": [
    "schema_df.sort_index(ascending=False,inplace=True) "
   ]
  },
  {
   "cell_type": "code",
   "execution_count": null,
   "id": "c0e71722-ad46-4653-8ab1-2e905828c2f5",
   "metadata": {},
   "outputs": [],
   "source": [
    "schema_df\n"
   ]
  },
  {
   "cell_type": "code",
   "execution_count": null,
   "id": "cb0cc891-907b-4681-a9ea-8e0852a6478b",
   "metadata": {},
   "outputs": [],
   "source": []
  }
 ],
 "metadata": {
  "kernelspec": {
   "display_name": "Python 3 (ipykernel)",
   "language": "python",
   "name": "python3"
  },
  "language_info": {
   "codemirror_mode": {
    "name": "ipython",
    "version": 3
   },
   "file_extension": ".py",
   "mimetype": "text/x-python",
   "name": "python",
   "nbconvert_exporter": "python",
   "pygments_lexer": "ipython3",
   "version": "3.12.1"
  }
 },
 "nbformat": 4,
 "nbformat_minor": 5
}
