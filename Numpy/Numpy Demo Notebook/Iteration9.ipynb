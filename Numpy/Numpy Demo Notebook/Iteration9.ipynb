{
 "cells": [
  {
   "cell_type": "code",
   "execution_count": null,
   "id": "215e5c25-4b0f-4b37-928a-59ee766db425",
   "metadata": {},
   "outputs": [],
   "source": [
    "#nditor\n",
    "#ndenumerate"
   ]
  },
  {
   "cell_type": "code",
   "execution_count": 9,
   "id": "64c08682-2f4c-40ab-b4f8-abcd9c9ef2e3",
   "metadata": {},
   "outputs": [
    {
     "name": "stdout",
     "output_type": "stream",
     "text": [
      "1\n",
      "4\n",
      "31\n"
     ]
    }
   ],
   "source": [
    "import numpy as np\n",
    "ar=np.array([1,4,31])\n",
    "for i in ar:\n",
    "    print(i)"
   ]
  },
  {
   "cell_type": "code",
   "execution_count": 8,
   "id": "b4ddc904-e829-44d9-981c-c55d11b8f9f5",
   "metadata": {},
   "outputs": [
    {
     "name": "stdout",
     "output_type": "stream",
     "text": [
      "1\n",
      "4\n",
      "2\n",
      "3\n",
      "----\n",
      "2\n"
     ]
    }
   ],
   "source": [
    "ar=np.array([[1,4],[2,3]])\n",
    "for i in ar:\n",
    "    for j in i:\n",
    "        print(j)\n",
    "print(\"----\")\n",
    "print(ar.ndim)"
   ]
  },
  {
   "cell_type": "code",
   "execution_count": 19,
   "id": "b505727a-1b27-458c-bc0f-95fb328c70c4",
   "metadata": {},
   "outputs": [
    {
     "name": "stdout",
     "output_type": "stream",
     "text": [
      "1\n",
      "4\n",
      "3\n",
      "2\n",
      "1\n",
      "To change the data\n",
      "b'1'\n",
      "b'4'\n",
      "b'3'\n",
      "b'2'\n",
      "b'1'\n"
     ]
    }
   ],
   "source": [
    "ar=np.array([1,4,3,2,1])\n",
    "for i in np.nditer(ar):\n",
    "    print(i)\n",
    "\n",
    "print(\"To change the data\")\n",
    "for i in np.nditer(ar,flags=['buffered'],op_dtypes=[\"S\"]):\n",
    "    print(i)"
   ]
  },
  {
   "cell_type": "code",
   "execution_count": 20,
   "id": "0d1a992f-2e41-42ce-849c-fefdc65c386c",
   "metadata": {},
   "outputs": [
    {
     "name": "stdout",
     "output_type": "stream",
     "text": [
      "(0,) 1\n",
      "(1,) 4\n",
      "(2,) 3\n",
      "(3,) 2\n",
      "(4,) 1\n"
     ]
    }
   ],
   "source": [
    "ar=np.array([1,4,3,2,1])\n",
    "for i,d in np.ndenumerate(ar):\n",
    "    print(i,d)\n"
   ]
  },
  {
   "cell_type": "code",
   "execution_count": 22,
   "id": "88f358e2-4b9e-4054-96fe-ec51f2cd716d",
   "metadata": {},
   "outputs": [
    {
     "name": "stdout",
     "output_type": "stream",
     "text": [
      "(0, 0) 1\n",
      "(0, 1) 4\n",
      "(0, 2) 1\n",
      "(0, 3) 1\n",
      "(1, 0) 2\n",
      "(1, 1) 3\n",
      "(1, 2) 1\n",
      "(1, 3) 1\n"
     ]
    }
   ],
   "source": [
    "ar=np.array([[1,4,1,1],[2,3,1,1]])\n",
    "for i,j in np.ndenumerate(ar):\n",
    "        print(i,j)\n"
   ]
  },
  {
   "cell_type": "code",
   "execution_count": 28,
   "id": "0bda8afb-9be7-4687-ba55-c0b8e539d2f5",
   "metadata": {},
   "outputs": [
    {
     "name": "stdout",
     "output_type": "stream",
     "text": [
      "(0, 0, 0) 1\n",
      "(0, 0, 1) 4\n",
      "(0, 0, 2) 1\n",
      "(0, 0, 3) 1\n",
      "(0, 1, 0) 2\n",
      "(0, 1, 1) 3\n",
      "(0, 1, 2) 1\n",
      "(0, 1, 3) 1\n"
     ]
    }
   ],
   "source": [
    "ar=np.array([[[1,4,1,1],[2,3,1,1]]])\n",
    "for i,j in np.ndenumerate(ar):\n",
    "        print(i,j)\n"
   ]
  },
  {
   "cell_type": "code",
   "execution_count": null,
   "id": "2ea4a19f-58c6-4a9e-9dee-e74850352af1",
   "metadata": {},
   "outputs": [],
   "source": []
  }
 ],
 "metadata": {
  "kernelspec": {
   "display_name": "Python 3 (ipykernel)",
   "language": "python",
   "name": "python3"
  },
  "language_info": {
   "codemirror_mode": {
    "name": "ipython",
    "version": 3
   },
   "file_extension": ".py",
   "mimetype": "text/x-python",
   "name": "python",
   "nbconvert_exporter": "python",
   "pygments_lexer": "ipython3",
   "version": "3.12.1"
  }
 },
 "nbformat": 4,
 "nbformat_minor": 5
}
