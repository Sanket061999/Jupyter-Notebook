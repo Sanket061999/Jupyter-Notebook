{
 "cells": [
  {
   "cell_type": "code",
   "execution_count": 9,
   "id": "f481c9a5-ceb7-4df0-8075-1130233fb084",
   "metadata": {},
   "outputs": [],
   "source": [
    "import numpy as np\n",
    "ar1=np.array([1,4,3,11,2,3,4,0,3])"
   ]
  },
  {
   "cell_type": "code",
   "execution_count": 12,
   "id": "cbe679e0-ee7e-4da3-a323-ca3a95d89bcc",
   "metadata": {},
   "outputs": [
    {
     "name": "stdout",
     "output_type": "stream",
     "text": [
      "(array([0], dtype=int64),)\n",
      "\n",
      "(array([1, 6], dtype=int64),)\n",
      "(array([7], dtype=int64),)\n",
      "(array([1, 4, 6, 7], dtype=int64),) Modules\n"
     ]
    }
   ],
   "source": [
    "#index\n",
    "x=np.where(ar1==1)\n",
    "print(x)\n",
    "print()\n",
    "x=np.where(ar1==4)\n",
    "print(x)\n",
    "\n",
    "x=np.where(ar1/2==0)\n",
    "print(x)\n",
    "\n",
    "x=np.where(ar1%2==0)\n",
    "print(x,\"Modules\")"
   ]
  },
  {
   "cell_type": "code",
   "execution_count": 24,
   "id": "35f14d9e-8801-4edc-8d89-f01ca6a58c05",
   "metadata": {},
   "outputs": [
    {
     "name": "stdout",
     "output_type": "stream",
     "text": [
      "11\n",
      "0\n",
      "we can pass multiple element to search its lection where we can place the element\n",
      "[11 11  0]\n",
      "Above one are searching from left to right\n",
      "To search from right to left we have to pass side arg as right\n",
      "11\n",
      "0\n"
     ]
    }
   ],
   "source": [
    "#For Searching in Sorted Array\n",
    "import numpy as np\n",
    "ar1=np.array([0,1,2,3,4,5,6,7,8,9,10])\n",
    "x=np.searchsorted(ar1,55) #In which index we can insert the specified element\n",
    "print(x)\n",
    "x=np.searchsorted(ar1,-55) #In which index we can insert the specified element\n",
    "print(x)\n",
    "print(\"we can pass multiple element to search its lection where we can place the element\")\n",
    "x=np.searchsorted(ar1,[55,11,0]) #In which index we can insert the specified element\n",
    "print(x)\n",
    "print(\"Above one are searching from left to right\")\n",
    "print(\"To search from right to left we have to pass side arg as right\")\n",
    "x=np.searchsorted(ar1,55,side='right') #In which index we can insert the specified element\n",
    "print(x)\n",
    "x=np.searchsorted(ar1,-55,side='right') #In which index we can insert the specified element\n",
    "print(x)"
   ]
  },
  {
   "cell_type": "code",
   "execution_count": 26,
   "id": "811ef505-5881-4093-a593-541378b44912",
   "metadata": {},
   "outputs": [
    {
     "name": "stdout",
     "output_type": "stream",
     "text": [
      "[ 0  1  2  3  3  3  4  4 11]\n",
      "['A' 'B' 'a' 'b']\n"
     ]
    }
   ],
   "source": [
    "#To sort an array\n",
    "ar1=np.array([1,4,3,11,2,3,4,0,3])\n",
    "print(np.sort(ar1))\n",
    "ar1=np.array(['a','A','b','B'])\n",
    "print(np.sort(ar1))"
   ]
  },
  {
   "cell_type": "code",
   "execution_count": 27,
   "id": "7d698c90-0c85-4743-935b-7a9c099fa0a3",
   "metadata": {},
   "outputs": [
    {
     "name": "stdout",
     "output_type": "stream",
     "text": [
      "[[1 3 4]\n",
      " [1 2 3]\n",
      " [3 4 4]]\n"
     ]
    }
   ],
   "source": [
    "ar1=np.array([[1,4,3],[1,2,3],[4,4,3]])\n",
    "print(np.sort(ar1))"
   ]
  },
  {
   "cell_type": "code",
   "execution_count": 28,
   "id": "535ed78f-dd1c-43c9-a447-2242c80014e7",
   "metadata": {},
   "outputs": [],
   "source": [
    "#Filtering of an array\n"
   ]
  },
  {
   "cell_type": "code",
   "execution_count": 30,
   "id": "af2e0ce0-166c-4fde-aa01-60a1801ebaf3",
   "metadata": {},
   "outputs": [
    {
     "name": "stdout",
     "output_type": "stream",
     "text": [
      "[1 4]\n",
      "<class 'numpy.ndarray'>\n"
     ]
    }
   ],
   "source": [
    "ar1=np.array([1,4,3,11])\n",
    "f=[True,True,False,False]\n",
    "new_ar1=ar1[f]\n",
    "print(new_ar1)\n",
    "print(type(new_ar1))"
   ]
  },
  {
   "cell_type": "code",
   "execution_count": null,
   "id": "4846fec7-dee0-4e55-b142-e9e92b407476",
   "metadata": {},
   "outputs": [],
   "source": []
  }
 ],
 "metadata": {
  "kernelspec": {
   "display_name": "Python 3 (ipykernel)",
   "language": "python",
   "name": "python3"
  },
  "language_info": {
   "codemirror_mode": {
    "name": "ipython",
    "version": 3
   },
   "file_extension": ".py",
   "mimetype": "text/x-python",
   "name": "python",
   "nbconvert_exporter": "python",
   "pygments_lexer": "ipython3",
   "version": "3.12.1"
  }
 },
 "nbformat": 4,
 "nbformat_minor": 5
}
