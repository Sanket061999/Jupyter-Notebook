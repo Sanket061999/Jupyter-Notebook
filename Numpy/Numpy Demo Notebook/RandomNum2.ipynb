{
 "cells": [
  {
   "cell_type": "code",
   "execution_count": null,
   "id": "39f1e2dd-e616-4d72-9d3b-2662f04c456f",
   "metadata": {},
   "outputs": [],
   "source": [
    "#rand()   0 to 1\n",
    "#randn() +- close to zero\n",
    "#randf() 0 to 1  (0 included and 1 excluded) [0,1)\n",
    "#randint(min,max,totalnum) random number between the range [min,max)"
   ]
  },
  {
   "cell_type": "code",
   "execution_count": 1,
   "id": "d979e28e-74d5-439a-9e05-a2a5f71de210",
   "metadata": {},
   "outputs": [],
   "source": [
    "import numpy as np"
   ]
  },
  {
   "cell_type": "code",
   "execution_count": 5,
   "id": "ab012541-5cc8-4d8a-9191-79238a8a3328",
   "metadata": {},
   "outputs": [
    {
     "data": {
      "text/plain": [
       "array([0.85464174, 0.57796338, 0.46522039, 0.51854099, 0.96199014])"
      ]
     },
     "execution_count": 5,
     "metadata": {},
     "output_type": "execute_result"
    }
   ],
   "source": [
    "var=np.random.rand(5)\n",
    "var"
   ]
  },
  {
   "cell_type": "code",
   "execution_count": 7,
   "id": "70fc4f30-8dd6-4fb5-a8a8-1d1aced59b51",
   "metadata": {},
   "outputs": [
    {
     "data": {
      "text/plain": [
       "array([[0.21195551, 0.72043026, 0.11098626, 0.37868836, 0.90241691],\n",
       "       [0.95676619, 0.2162318 , 0.39551362, 0.30067811, 0.29789573],\n",
       "       [0.93232257, 0.22287651, 0.72664704, 0.44991646, 0.19655856]])"
      ]
     },
     "execution_count": 7,
     "metadata": {},
     "output_type": "execute_result"
    }
   ],
   "source": [
    "var1=np.random.rand(3,5)\n",
    "var1"
   ]
  },
  {
   "cell_type": "code",
   "execution_count": 8,
   "id": "4ac0d3c4-94de-4baf-8a2a-b5d07b6fa193",
   "metadata": {},
   "outputs": [
    {
     "data": {
      "text/plain": [
       "array([-0.1220499 , -1.70195975,  0.22327958,  0.22013032,  0.66234155,\n",
       "       -0.24174096, -0.33659302, -0.66461504,  0.44096589,  1.32367876])"
      ]
     },
     "execution_count": 8,
     "metadata": {},
     "output_type": "execute_result"
    }
   ],
   "source": [
    "var2=np.random.randn(10)\n",
    "var2"
   ]
  },
  {
   "cell_type": "code",
   "execution_count": 9,
   "id": "9323fd39-2e98-4e4f-8cc3-8755eecb23f5",
   "metadata": {},
   "outputs": [
    {
     "data": {
      "text/plain": [
       "array([0.70123871, 0.92065196, 0.21527991, 0.95945866, 0.09959612,\n",
       "       0.54322243, 0.43249894, 0.99800192, 0.9037398 , 0.18794042])"
      ]
     },
     "execution_count": 9,
     "metadata": {},
     "output_type": "execute_result"
    }
   ],
   "source": [
    "var3=np.random.ranf(10)\n",
    "var3"
   ]
  },
  {
   "cell_type": "code",
   "execution_count": 16,
   "id": "8d4a9efe-a86d-46b3-ac82-8afdb4ed5e3e",
   "metadata": {},
   "outputs": [
    {
     "data": {
      "text/plain": [
       "array([6, 6, 6, 5, 5, 5, 5, 6, 5, 5])"
      ]
     },
     "execution_count": 16,
     "metadata": {},
     "output_type": "execute_result"
    }
   ],
   "source": [
    "var4=np.random.randint(5,7,10) \n",
    "var4"
   ]
  },
  {
   "cell_type": "code",
   "execution_count": null,
   "id": "ad4ea9fa-22a3-4228-99d0-5b6b580d867e",
   "metadata": {},
   "outputs": [],
   "source": []
  }
 ],
 "metadata": {
  "kernelspec": {
   "display_name": "Python 3 (ipykernel)",
   "language": "python",
   "name": "python3"
  },
  "language_info": {
   "codemirror_mode": {
    "name": "ipython",
    "version": 3
   },
   "file_extension": ".py",
   "mimetype": "text/x-python",
   "name": "python",
   "nbconvert_exporter": "python",
   "pygments_lexer": "ipython3",
   "version": "3.12.1"
  }
 },
 "nbformat": 4,
 "nbformat_minor": 5
}
