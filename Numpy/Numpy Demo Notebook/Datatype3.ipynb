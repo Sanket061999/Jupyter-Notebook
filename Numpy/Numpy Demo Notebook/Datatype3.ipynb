{
 "cells": [
  {
   "cell_type": "code",
   "execution_count": 1,
   "id": "73c174b2-cf73-49ed-9a49-b2454001b357",
   "metadata": {},
   "outputs": [],
   "source": [
    "import numpy as np"
   ]
  },
  {
   "cell_type": "code",
   "execution_count": 2,
   "id": "d8eacf57-bb29-484b-a6db-5ba8c42f1a59",
   "metadata": {},
   "outputs": [
    {
     "data": {
      "text/plain": [
       "dtype('int32')"
      ]
     },
     "execution_count": 2,
     "metadata": {},
     "output_type": "execute_result"
    }
   ],
   "source": [
    "var=np.array([1,2,3,4,5])\n",
    "var.dtype"
   ]
  },
  {
   "cell_type": "code",
   "execution_count": 3,
   "id": "15027595-d411-4c22-bf39-0e8a7a78be6f",
   "metadata": {},
   "outputs": [
    {
     "data": {
      "text/plain": [
       "dtype('float64')"
      ]
     },
     "execution_count": 3,
     "metadata": {},
     "output_type": "execute_result"
    }
   ],
   "source": [
    "var=np.array([1.1,2,3,4,5])\n",
    "var.dtype"
   ]
  },
  {
   "cell_type": "code",
   "execution_count": 4,
   "id": "5b9ee884-78fe-4280-9f44-f392c04a0a6c",
   "metadata": {},
   "outputs": [
    {
     "data": {
      "text/plain": [
       "dtype('<U3')"
      ]
     },
     "execution_count": 4,
     "metadata": {},
     "output_type": "execute_result"
    }
   ],
   "source": [
    "var=np.array(['1.1','2','3','4','5'])\n",
    "var.dtype"
   ]
  },
  {
   "cell_type": "code",
   "execution_count": 5,
   "id": "3120b062-7415-470d-aed7-fa934d2f08df",
   "metadata": {},
   "outputs": [
    {
     "data": {
      "text/plain": [
       "dtype('<U11')"
      ]
     },
     "execution_count": 5,
     "metadata": {},
     "output_type": "execute_result"
    }
   ],
   "source": [
    "var=np.array(['1.1','2',3,4])\n",
    "var.dtype"
   ]
  },
  {
   "cell_type": "code",
   "execution_count": 6,
   "id": "5c9582b8-d70d-4e40-b171-923dbf9cf95b",
   "metadata": {},
   "outputs": [
    {
     "data": {
      "text/plain": [
       "dtype('int8')"
      ]
     },
     "execution_count": 6,
     "metadata": {},
     "output_type": "execute_result"
    }
   ],
   "source": [
    "#Convertion\n",
    "var=np.array([1,2,3,4,5],dtype=np.int8)\n",
    "var.dtype"
   ]
  },
  {
   "cell_type": "code",
   "execution_count": 7,
   "id": "b717a6ef-840b-45f6-a8dc-e0e5d566af5b",
   "metadata": {},
   "outputs": [
    {
     "data": {
      "text/plain": [
       "dtype('float32')"
      ]
     },
     "execution_count": 7,
     "metadata": {},
     "output_type": "execute_result"
    }
   ],
   "source": [
    "var=np.array([1,2,3,4,5],dtype=\"f\")\n",
    "var.dtype"
   ]
  },
  {
   "cell_type": "code",
   "execution_count": 10,
   "id": "a4e6a76f-d4e7-4eba-8a7c-453eb1b9b47e",
   "metadata": {},
   "outputs": [
    {
     "name": "stdout",
     "output_type": "stream",
     "text": [
      "float64\n",
      "[1. 2. 3. 4. 5.]\n"
     ]
    }
   ],
   "source": [
    "#Using funtion\n",
    "var=np.array([1,2,3,4,5])\n",
    "new=np.float64(var)\n",
    "print(new.dtype)\n",
    "print(new)"
   ]
  },
  {
   "cell_type": "code",
   "execution_count": 11,
   "id": "5757552d-b156-4e4c-8dd7-8747709dd42a",
   "metadata": {},
   "outputs": [
    {
     "name": "stdout",
     "output_type": "stream",
     "text": [
      "int32\n",
      "[1 2 3 5 6 9]\n"
     ]
    }
   ],
   "source": [
    "var=[1.2,2.3,3.4,5.5,6.8,9.9]\n",
    "new=np.int32(var)\n",
    "print(new.dtype)\n",
    "print(new)"
   ]
  },
  {
   "cell_type": "code",
   "execution_count": 13,
   "id": "1bec4900-2a2a-40f5-ae8b-cdb67c51248c",
   "metadata": {},
   "outputs": [
    {
     "name": "stdout",
     "output_type": "stream",
     "text": [
      "[1 2 3 4 5]\n",
      "[1. 2. 3. 4. 5.]\n"
     ]
    }
   ],
   "source": [
    "x3=np.array([1,2,3,4,5])\n",
    "new1=x3.astype(float)\n",
    "print(x3)\n",
    "print(new1)"
   ]
  },
  {
   "cell_type": "code",
   "execution_count": null,
   "id": "234b0504-9a45-432c-8677-c0d0aeaa1247",
   "metadata": {},
   "outputs": [],
   "source": []
  }
 ],
 "metadata": {
  "kernelspec": {
   "display_name": "Python 3 (ipykernel)",
   "language": "python",
   "name": "python3"
  },
  "language_info": {
   "codemirror_mode": {
    "name": "ipython",
    "version": 3
   },
   "file_extension": ".py",
   "mimetype": "text/x-python",
   "name": "python",
   "nbconvert_exporter": "python",
   "pygments_lexer": "ipython3",
   "version": "3.12.1"
  }
 },
 "nbformat": 4,
 "nbformat_minor": 5
}
