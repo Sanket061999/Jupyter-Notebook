{
 "cells": [
  {
   "cell_type": "code",
   "execution_count": 1,
   "id": "47aa850f-e3ae-48f4-91b2-83344878509d",
   "metadata": {},
   "outputs": [],
   "source": [
    "import numpy as np"
   ]
  },
  {
   "cell_type": "code",
   "execution_count": 2,
   "id": "00d148ca-2c63-49b6-a717-6bbe31e6b400",
   "metadata": {},
   "outputs": [
    {
     "data": {
      "text/plain": [
       "array([1, 2, 3, 4, 5, 6, 7])"
      ]
     },
     "execution_count": 2,
     "metadata": {},
     "output_type": "execute_result"
    }
   ],
   "source": [
    "x=np.array([1,2,3,4,5,6,7])\n",
    "x"
   ]
  },
  {
   "cell_type": "code",
   "execution_count": 3,
   "id": "854ce031-a744-4c0a-832a-1fe3f7d41023",
   "metadata": {},
   "outputs": [
    {
     "data": {
      "text/plain": [
       "numpy.ndarray"
      ]
     },
     "execution_count": 3,
     "metadata": {},
     "output_type": "execute_result"
    }
   ],
   "source": [
    "type(x)"
   ]
  },
  {
   "cell_type": "code",
   "execution_count": 5,
   "id": "9643fce1-1892-4f4e-a4ef-f980f54d486a",
   "metadata": {},
   "outputs": [
    {
     "name": "stdout",
     "output_type": "stream",
     "text": [
      "[1 2 3 4 5 6 7]\n"
     ]
    }
   ],
   "source": [
    "print(x)"
   ]
  },
  {
   "cell_type": "code",
   "execution_count": 6,
   "id": "78fd8f2d-8144-406b-829c-c210856a3658",
   "metadata": {},
   "outputs": [],
   "source": [
    "list=[1,2,3,3,4,6]"
   ]
  },
  {
   "cell_type": "code",
   "execution_count": 9,
   "id": "2a841d2b-23f6-494b-9063-3101575c8f82",
   "metadata": {},
   "outputs": [
    {
     "data": {
      "text/plain": [
       "array([1, 2, 3, 3, 4, 6])"
      ]
     },
     "execution_count": 9,
     "metadata": {},
     "output_type": "execute_result"
    }
   ],
   "source": [
    "y=np.array(list)\n",
    "y"
   ]
  },
  {
   "cell_type": "code",
   "execution_count": 11,
   "id": "9e41e277-60f9-4a8b-9c2a-f2278486c0f9",
   "metadata": {},
   "outputs": [
    {
     "data": {
      "text/plain": [
       "1"
      ]
     },
     "execution_count": 11,
     "metadata": {},
     "output_type": "execute_result"
    }
   ],
   "source": [
    "#To get dimention of array we use ndim variable\n",
    "y.ndim"
   ]
  },
  {
   "cell_type": "code",
   "execution_count": 20,
   "id": "81acef7b-73a4-4f93-8484-fdd8956a64c3",
   "metadata": {},
   "outputs": [],
   "source": [
    "ar2=np.array([[1,2,3,4],[1,2,3,5]])"
   ]
  },
  {
   "cell_type": "code",
   "execution_count": 23,
   "id": "20376531-a215-4a3d-9295-bacfb28a5251",
   "metadata": {},
   "outputs": [
    {
     "name": "stdout",
     "output_type": "stream",
     "text": [
      "[[1 2 3 4]\n",
      " [1 2 3 5]]\n"
     ]
    },
    {
     "data": {
      "text/plain": [
       "2"
      ]
     },
     "execution_count": 23,
     "metadata": {},
     "output_type": "execute_result"
    }
   ],
   "source": [
    "print(ar2)\n",
    "ar2.ndim"
   ]
  },
  {
   "cell_type": "code",
   "execution_count": 25,
   "id": "fb0eeab1-59a3-430f-bb79-6761f6550adc",
   "metadata": {},
   "outputs": [
    {
     "data": {
      "text/plain": [
       "array([[[1, 2, 3]]])"
      ]
     },
     "execution_count": 25,
     "metadata": {},
     "output_type": "execute_result"
    }
   ],
   "source": [
    "ar3=np.array([[[1,2,3]]])\n",
    "ar3"
   ]
  },
  {
   "cell_type": "code",
   "execution_count": 26,
   "id": "5331f2c4-73f2-4311-8557-05ff0fcb96b5",
   "metadata": {},
   "outputs": [
    {
     "data": {
      "text/plain": [
       "3"
      ]
     },
     "execution_count": 26,
     "metadata": {},
     "output_type": "execute_result"
    }
   ],
   "source": [
    "ar3.ndim"
   ]
  },
  {
   "cell_type": "code",
   "execution_count": 29,
   "id": "5de66a1e-030c-4fbe-a0ba-39a37d55f671",
   "metadata": {},
   "outputs": [],
   "source": [
    "#to create n dimention array\n",
    "ar4=np.array([2,3,4,11],ndmin=10)"
   ]
  },
  {
   "cell_type": "code",
   "execution_count": 30,
   "id": "b62fa201-e80d-4d23-b69e-ead25f0178c1",
   "metadata": {},
   "outputs": [
    {
     "data": {
      "text/plain": [
       "array([[[[[[[[[[ 2,  3,  4, 11]]]]]]]]]])"
      ]
     },
     "execution_count": 30,
     "metadata": {},
     "output_type": "execute_result"
    }
   ],
   "source": [
    "ar4"
   ]
  },
  {
   "cell_type": "code",
   "execution_count": 31,
   "id": "27ad6407-6bd7-42fc-ab8a-e65462ee9e4c",
   "metadata": {},
   "outputs": [
    {
     "data": {
      "text/plain": [
       "10"
      ]
     },
     "execution_count": 31,
     "metadata": {},
     "output_type": "execute_result"
    }
   ],
   "source": [
    "ar4.ndim"
   ]
  },
  {
   "cell_type": "code",
   "execution_count": 33,
   "id": "8df114a0-d6f4-461e-9768-88073a41a2df",
   "metadata": {},
   "outputs": [
    {
     "data": {
      "text/plain": [
       "array([0., 0., 0., 0.])"
      ]
     },
     "execution_count": 33,
     "metadata": {},
     "output_type": "execute_result"
    }
   ],
   "source": [
    "ar_zero=np.zeros(4)\n",
    "ar_zero"
   ]
  },
  {
   "cell_type": "code",
   "execution_count": 5,
   "id": "503eceb7-aeb0-4391-a59e-1f8877133b9d",
   "metadata": {},
   "outputs": [
    {
     "data": {
      "text/plain": [
       "array([[0., 0., 0., 0.],\n",
       "       [0., 0., 0., 0.],\n",
       "       [0., 0., 0., 0.]])"
      ]
     },
     "execution_count": 5,
     "metadata": {},
     "output_type": "execute_result"
    }
   ],
   "source": [
    "ar_zero_2d=np.zeros((3,4))\n",
    "ar_zero_2d"
   ]
  },
  {
   "cell_type": "code",
   "execution_count": 36,
   "id": "6c551320-bb0a-418e-a138-77dc466c9c80",
   "metadata": {},
   "outputs": [
    {
     "data": {
      "text/plain": [
       "array([1., 1., 1., 1., 1., 1., 1., 1., 1., 1.])"
      ]
     },
     "execution_count": 36,
     "metadata": {},
     "output_type": "execute_result"
    }
   ],
   "source": [
    "ones_1=np.ones(10)\n",
    "ones_1"
   ]
  },
  {
   "cell_type": "code",
   "execution_count": 6,
   "id": "1f07ccc7-04df-4bc9-9f7f-291d8b88b884",
   "metadata": {},
   "outputs": [
    {
     "data": {
      "text/plain": [
       "array([[1., 1., 1., 1.],\n",
       "       [1., 1., 1., 1.],\n",
       "       [1., 1., 1., 1.]])"
      ]
     },
     "execution_count": 6,
     "metadata": {},
     "output_type": "execute_result"
    }
   ],
   "source": [
    "ar_zero_2d=np.ones((3,4))\n",
    "ar_zero_2d"
   ]
  },
  {
   "cell_type": "code",
   "execution_count": 37,
   "id": "a2cece1d-a8f6-4a51-a3e9-78f7c35e1b37",
   "metadata": {},
   "outputs": [],
   "source": [
    "#Empty Array"
   ]
  },
  {
   "cell_type": "code",
   "execution_count": 43,
   "id": "438d2a3d-4486-44f7-b010-7ce1109edfd5",
   "metadata": {},
   "outputs": [
    {
     "data": {
      "text/plain": [
       "array([6.95327625e-310, 6.95327625e-310, 6.95327625e-310])"
      ]
     },
     "execution_count": 43,
     "metadata": {},
     "output_type": "execute_result"
    }
   ],
   "source": [
    "ar_em=np.empty(3)  #It empty array but data from previous memory gets reflected\n",
    "ar_em"
   ]
  },
  {
   "cell_type": "code",
   "execution_count": 44,
   "id": "08fe0190-c153-44ea-98b9-67a3da7d9a00",
   "metadata": {},
   "outputs": [
    {
     "data": {
      "text/plain": [
       "array([0, 1, 2, 3])"
      ]
     },
     "execution_count": 44,
     "metadata": {},
     "output_type": "execute_result"
    }
   ],
   "source": [
    "ar_range=np.arange(4)\n",
    "ar_range"
   ]
  },
  {
   "cell_type": "code",
   "execution_count": 46,
   "id": "ff2c402f-b1ec-4450-99a8-120f718f5241",
   "metadata": {},
   "outputs": [
    {
     "data": {
      "text/plain": [
       "array([[1., 0., 0.],\n",
       "       [0., 1., 0.],\n",
       "       [0., 0., 1.]])"
      ]
     },
     "execution_count": 46,
     "metadata": {},
     "output_type": "execute_result"
    }
   ],
   "source": [
    "dig=np.eye(3)\n",
    "dig"
   ]
  },
  {
   "cell_type": "code",
   "execution_count": 47,
   "id": "97d72e6d-21ee-41dc-be01-29060a19974a",
   "metadata": {},
   "outputs": [
    {
     "data": {
      "text/plain": [
       "array([[1., 0., 0., 0., 0.],\n",
       "       [0., 1., 0., 0., 0.],\n",
       "       [0., 0., 1., 0., 0.]])"
      ]
     },
     "execution_count": 47,
     "metadata": {},
     "output_type": "execute_result"
    }
   ],
   "source": [
    "dig1=np.eye(3,5)\n",
    "dig1"
   ]
  },
  {
   "cell_type": "code",
   "execution_count": 57,
   "id": "e6f7ede6-a40c-4334-9985-ec074ab4f734",
   "metadata": {},
   "outputs": [
    {
     "data": {
      "text/plain": [
       "array([ 0. ,  2.5,  5. ,  7.5, 10. ])"
      ]
     },
     "execution_count": 57,
     "metadata": {},
     "output_type": "execute_result"
    }
   ],
   "source": [
    "#special type array that having continuous gap\n",
    "ar_lin=np.linspace(0,10,num=5)\n",
    "ar_lin"
   ]
  },
  {
   "cell_type": "code",
   "execution_count": 3,
   "id": "163e2bdf-d3bc-4e2c-b52a-408f86ebbe1b",
   "metadata": {},
   "outputs": [
    {
     "name": "stdout",
     "output_type": "stream",
     "text": [
      "[[1 2 3]\n",
      " [4 5 6]\n",
      " [7 8 9]]\n"
     ]
    }
   ],
   "source": [
    "import numpy as np\n",
    "ar1=np.arange(1,10).reshape(3,3)\n",
    "print(ar1)\n"
   ]
  },
  {
   "cell_type": "code",
   "execution_count": 5,
   "id": "b8f6740b-fac3-4b17-bc51-32eda74b9198",
   "metadata": {},
   "outputs": [],
   "source": [
    "#Modification of an array"
   ]
  },
  {
   "cell_type": "code",
   "execution_count": 6,
   "id": "b67df3bb-14a4-43ba-aec8-e9d44e3d6d7e",
   "metadata": {},
   "outputs": [],
   "source": [
    "import numpy as np\n",
    "x=np.array([1,2,3,4,5,6,7])"
   ]
  },
  {
   "cell_type": "code",
   "execution_count": 8,
   "id": "a1ffce5c-201d-4d40-a57f-2df1705f5dfc",
   "metadata": {},
   "outputs": [
    {
     "name": "stdout",
     "output_type": "stream",
     "text": [
      "[123   1   2   3   4   5   6   7]\n"
     ]
    }
   ],
   "source": [
    "y=np.insert(x,0,123)#can append only int value to int array\n",
    "print(y)"
   ]
  },
  {
   "cell_type": "code",
   "execution_count": 10,
   "id": "892f9ae1-8747-4772-917c-347e6a04bada",
   "metadata": {},
   "outputs": [
    {
     "name": "stdout",
     "output_type": "stream",
     "text": [
      "[1 2 3 4 5 6 7]\n",
      "[123   1 123   2 123   3   4   5   6   7]\n"
     ]
    }
   ],
   "source": [
    "z=np.insert(x,(0,1,2),123)\n",
    "print(x)\n",
    "print(z)"
   ]
  },
  {
   "cell_type": "code",
   "execution_count": 12,
   "id": "0c0c7994-6db3-4dc2-89ef-72064aa8e5cf",
   "metadata": {},
   "outputs": [
    {
     "name": "stdout",
     "output_type": "stream",
     "text": [
      "[1 2 3 4 5 6 7]\n",
      "[12  1  2  3  4  5  6  7]\n"
     ]
    }
   ],
   "source": [
    "z=np.insert(x,0,12.3)\n",
    "print(x)\n",
    "print(z)"
   ]
  },
  {
   "cell_type": "code",
   "execution_count": 21,
   "id": "2f516b4f-771e-4075-b927-da58025890ab",
   "metadata": {},
   "outputs": [
    {
     "name": "stdout",
     "output_type": "stream",
     "text": [
      "[[100 100 100]\n",
      " [  1   2   3]\n",
      " [  4   5   6]\n",
      " [  7   8   2]]\n",
      "\n",
      "[[100   1   2   3]\n",
      " [100   4   5   6]\n",
      " [100   7   8   2]]\n",
      "-----\n",
      "[[100   1   2   3]\n",
      " [101   4   5   6]\n",
      " [  1   7   8   2]]\n",
      "\n",
      "[[100 101   1]\n",
      " [  1   2   3]\n",
      " [  4   5   6]\n",
      " [  7   8   2]]\n"
     ]
    }
   ],
   "source": [
    "arr=np.array([[1, 2, 3],\n",
    " [4, 5, 6],\n",
    " [7, 8, 2]]\n",
    ")\n",
    "x=np.insert(arr,0,100,axis=0)\n",
    "print(x)\n",
    "print()\n",
    "x=np.insert(arr,0,100,axis=1)\n",
    "print(x)\n",
    "print('-----')\n",
    "x=np.insert(arr,0,[100,101,1],axis=1)\n",
    "print(x)\n",
    "print()\n",
    "x=np.insert(arr,0,[100,101,1],axis=0)\n",
    "print(x)"
   ]
  },
  {
   "cell_type": "code",
   "execution_count": 24,
   "id": "0019ca16-6b4c-4e6e-8c3e-904e0dd67283",
   "metadata": {},
   "outputs": [
    {
     "name": "stdout",
     "output_type": "stream",
     "text": [
      "[ 1.   2.   3.   4.   5.   6.   7.  11.1]\n"
     ]
    }
   ],
   "source": [
    "x=np.array([1,2,3,4,5,6,7])\n",
    "y=np.append(x,11.1) #can append float value to int array\n",
    "print(y)"
   ]
  },
  {
   "cell_type": "code",
   "execution_count": 25,
   "id": "555353c6-b365-49f7-9e1d-25409a1b2e6a",
   "metadata": {},
   "outputs": [
    {
     "name": "stdout",
     "output_type": "stream",
     "text": [
      "[[ 1  2  3]\n",
      " [ 4  5  6]\n",
      " [ 7  8  2]\n",
      " [11 22 33]]\n"
     ]
    }
   ],
   "source": [
    "arr=np.array([[1, 2, 3],\n",
    " [4, 5, 6],\n",
    " [7, 8, 2]]\n",
    ")\n",
    "v=np.append(arr,[[11,22,33]],axis=0)\n",
    "print(v)"
   ]
  },
  {
   "cell_type": "code",
   "execution_count": 26,
   "id": "887fbdc0-6562-4dd4-ae59-10d014092ecd",
   "metadata": {},
   "outputs": [
    {
     "name": "stdout",
     "output_type": "stream",
     "text": [
      "[2 3 4 5 6 7]\n"
     ]
    }
   ],
   "source": [
    "#Delete\n",
    "x=np.array([1,2,3,4,5,6,7])\n",
    "y=np.delete(x,0) #can have to index\n",
    "print(y)"
   ]
  },
  {
   "cell_type": "code",
   "execution_count": null,
   "id": "7c601554-98cf-424d-8fc3-23fa93334866",
   "metadata": {},
   "outputs": [],
   "source": []
  },
  {
   "cell_type": "code",
   "execution_count": null,
   "id": "c24fcaaf-4c45-4fe0-a554-e3206fc88517",
   "metadata": {},
   "outputs": [],
   "source": []
  },
  {
   "cell_type": "code",
   "execution_count": 18,
   "id": "82e3a4a1-b508-4265-824d-1d60deec986f",
   "metadata": {},
   "outputs": [
    {
     "name": "stdout",
     "output_type": "stream",
     "text": [
      "0\n",
      "8\n",
      "-----\n",
      "8\n",
      "0\n",
      "Slicing\n",
      "[1 2]\n",
      "[1 3 5]\n",
      "[1 2 3 4 5 6 7 8]\n",
      "[8 7]\n",
      "[0 2 4 6 8]\n",
      "[8 7 6 5 4 3 2 1 0]\n"
     ]
    }
   ],
   "source": [
    "arr=np.array([0,1,2,3,4,5,6,7,8])\n",
    "print(arr[0])\n",
    "print(arr[len(arr)-1])\n",
    "print(\"-----\")\n",
    "print(arr[-1])\n",
    "print(arr[-9])\n",
    "print(\"Slicing\")\n",
    "print(arr[1:3])\n",
    "print(arr[1:6:2])\n",
    "print(arr[1:])\n",
    "print(arr[-1:-3:-1])\n",
    "print(arr[::2])\n",
    "print(arr[::-1])\n"
   ]
  },
  {
   "cell_type": "code",
   "execution_count": 4,
   "id": "323dd456-a220-4cdc-aa7e-79a09a55a337",
   "metadata": {},
   "outputs": [
    {
     "name": "stdout",
     "output_type": "stream",
     "text": [
      "[1 2 3]\n",
      "1\n",
      "5\n",
      "[1 2 3]\n",
      "[ 1  4  7 10]\n",
      "---slicing----\n",
      "------1\n",
      "[4 5 6]\n",
      "------2\n",
      "[ 2  5  8 11]\n",
      "------3\n",
      "[[5 6]\n",
      " [8 9]]\n",
      "------4\n",
      "[[4 5 6]\n",
      " [7 8 9]]\n",
      "------5\n",
      "[[ 2  3]\n",
      " [ 5  6]\n",
      " [ 8  9]\n",
      " [11 12]]\n",
      "------6\n",
      "[5 8]\n",
      "------7\n",
      "[[4]\n",
      " [7]]\n"
     ]
    }
   ],
   "source": [
    "import numpy as np\n",
    "ar1=np.array([[1,2,3],[4,5,6],[7,8,9],[10,11,12]])\n",
    "print(ar1[0])\n",
    "print(ar1[0,0])\n",
    "print(ar1[1,1])\n",
    "print(ar1[0,:])\n",
    "print(ar1[:,0])\n",
    "\n",
    "print(\"---slicing----\")\n",
    "print('------1')\n",
    "print(ar1[1,])\n",
    "print('------2')\n",
    "print(ar1[:,1])\n",
    "print('------3')\n",
    "print(ar1[1:3,1:3])\n",
    "print('------4')\n",
    "print(ar1[1:3,])\n",
    "print('------5')\n",
    "print(ar1[:,1:3])\n",
    "print('------6')\n",
    "print(ar1[1:3,1])\n",
    "print('------7')\n",
    "print(ar1[1:3,:1])\n"
   ]
  },
  {
   "cell_type": "code",
   "execution_count": null,
   "id": "4f359e60-12a7-4de8-a2f7-fcf51225e069",
   "metadata": {},
   "outputs": [],
   "source": []
  },
  {
   "cell_type": "code",
   "execution_count": null,
   "id": "8f800dd7-fdde-4152-bbd3-de9171a6064e",
   "metadata": {},
   "outputs": [],
   "source": []
  }
 ],
 "metadata": {
  "kernelspec": {
   "display_name": "Python 3 (ipykernel)",
   "language": "python",
   "name": "python3"
  },
  "language_info": {
   "codemirror_mode": {
    "name": "ipython",
    "version": 3
   },
   "file_extension": ".py",
   "mimetype": "text/x-python",
   "name": "python",
   "nbconvert_exporter": "python",
   "pygments_lexer": "ipython3",
   "version": "3.12.1"
  }
 },
 "nbformat": 4,
 "nbformat_minor": 5
}
