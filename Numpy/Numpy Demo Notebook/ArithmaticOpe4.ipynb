{
 "cells": [
  {
   "cell_type": "code",
   "execution_count": 2,
   "id": "205164f7-be7d-4943-8aa6-d37beeeb9bd2",
   "metadata": {},
   "outputs": [
    {
     "data": {
      "text/plain": [
       "'min, max, argmin, argmax, sqrt, sin, cos, cumsum'"
      ]
     },
     "execution_count": 2,
     "metadata": {},
     "output_type": "execute_result"
    }
   ],
   "source": [
    "import pandas as pd\n",
    "'''add, subtract, multiply, division, mod, power, reciprocal, @(matrix multiplication),transpose (converting the rows into column and vise versa)'''\n",
    "'''min, max, argmin, argmax, sqrt, sin, cos, cumsum'''"
   ]
  },
  {
   "cell_type": "code",
   "execution_count": 16,
   "id": "e7519cd1-48b1-4caa-b3f4-0e5fbb6fe1ec",
   "metadata": {},
   "outputs": [
    {
     "data": {
      "text/plain": [
       "array([4, 5, 6])"
      ]
     },
     "execution_count": 16,
     "metadata": {},
     "output_type": "execute_result"
    }
   ],
   "source": [
    "ar1=np.array([1,2,3])\n",
    "ar1=ar1+3\n",
    "ar1"
   ]
  },
  {
   "cell_type": "code",
   "execution_count": 18,
   "id": "5c23b36f-044a-4366-94d1-e4914bf8fa64",
   "metadata": {},
   "outputs": [
    {
     "data": {
      "text/plain": [
       "array([2, 4, 6])"
      ]
     },
     "execution_count": 18,
     "metadata": {},
     "output_type": "execute_result"
    }
   ],
   "source": [
    "ar1=np.array([1,2,3])\n",
    "ar2=np.array([1,2,3])\n",
    "var=ar1+ar2\n",
    "var"
   ]
  },
  {
   "cell_type": "code",
   "execution_count": 21,
   "id": "99f0338b-8951-49f7-8411-0de80d382f18",
   "metadata": {},
   "outputs": [
    {
     "data": {
      "text/plain": [
       "array([2, 4, 6])"
      ]
     },
     "execution_count": 21,
     "metadata": {},
     "output_type": "execute_result"
    }
   ],
   "source": [
    "ar1=np.array([1,2,3])\n",
    "ar2=np.array([1,2,3])\n",
    "add=np.add(ar1,ar2)\n",
    "add"
   ]
  },
  {
   "cell_type": "code",
   "execution_count": 22,
   "id": "917523b4-9bbd-4d0c-a1eb-abb6fa604d92",
   "metadata": {},
   "outputs": [
    {
     "data": {
      "text/plain": [
       "array([4, 5, 6])"
      ]
     },
     "execution_count": 22,
     "metadata": {},
     "output_type": "execute_result"
    }
   ],
   "source": [
    "ar1=np.array([1,2,3])\n",
    "ad=np.add(ar1,3)\n",
    "ad"
   ]
  },
  {
   "cell_type": "code",
   "execution_count": 19,
   "id": "10cdebde-7b41-4054-8f8f-bd7cd9731e99",
   "metadata": {},
   "outputs": [
    {
     "data": {
      "text/plain": [
       "array([-2, -1,  0])"
      ]
     },
     "execution_count": 19,
     "metadata": {},
     "output_type": "execute_result"
    }
   ],
   "source": [
    "ar1=np.array([1,2,3])\n",
    "ar1=ar1-3\n",
    "ar1"
   ]
  },
  {
   "cell_type": "code",
   "execution_count": 20,
   "id": "492a2d97-e900-4258-8e48-4cc7aafdc4c5",
   "metadata": {},
   "outputs": [
    {
     "data": {
      "text/plain": [
       "array([0, 0, 0])"
      ]
     },
     "execution_count": 20,
     "metadata": {},
     "output_type": "execute_result"
    }
   ],
   "source": [
    "ar1=np.array([1,2,3])\n",
    "ar2=np.array([1,2,3])\n",
    "var=ar1-ar2\n",
    "var"
   ]
  },
  {
   "cell_type": "code",
   "execution_count": 25,
   "id": "1b5369c2-14de-4395-b1c8-f42ea0779505",
   "metadata": {},
   "outputs": [
    {
     "data": {
      "text/plain": [
       "array([0, 0, 0])"
      ]
     },
     "execution_count": 25,
     "metadata": {},
     "output_type": "execute_result"
    }
   ],
   "source": [
    "ar1=np.array([1,2,3])\n",
    "ar2=np.array([1,2,3])\n",
    "ans=np.subtract(ar1,ar2)\n",
    "ans"
   ]
  },
  {
   "cell_type": "code",
   "execution_count": 26,
   "id": "3de5d179-ff39-4523-aff1-06c82aa170bc",
   "metadata": {},
   "outputs": [
    {
     "data": {
      "text/plain": [
       "array([1, 4, 9])"
      ]
     },
     "execution_count": 26,
     "metadata": {},
     "output_type": "execute_result"
    }
   ],
   "source": [
    "ar1=np.array([1,2,3])\n",
    "ar2=np.array([1,2,3])\n",
    "ans=np.multiply(ar1,ar2)\n",
    "ans"
   ]
  },
  {
   "cell_type": "code",
   "execution_count": 27,
   "id": "fddcd12d-6018-4f08-8801-4db4f4edbb7d",
   "metadata": {},
   "outputs": [
    {
     "data": {
      "text/plain": [
       "array([1., 1., 1.])"
      ]
     },
     "execution_count": 27,
     "metadata": {},
     "output_type": "execute_result"
    }
   ],
   "source": [
    "ar1=np.array([1,2,3])\n",
    "ar2=np.array([1,2,3])\n",
    "ans=np.divide(ar1,ar2)\n",
    "ans"
   ]
  },
  {
   "cell_type": "code",
   "execution_count": 28,
   "id": "90aeb44b-333f-4dcc-a22a-b81da08a8fd5",
   "metadata": {},
   "outputs": [
    {
     "data": {
      "text/plain": [
       "array([0, 0, 0])"
      ]
     },
     "execution_count": 28,
     "metadata": {},
     "output_type": "execute_result"
    }
   ],
   "source": [
    "ar1=np.array([1,2,3])\n",
    "ar2=np.array([1,2,3])\n",
    "ans=np.mod(ar1,ar2)\n",
    "ans"
   ]
  },
  {
   "cell_type": "code",
   "execution_count": 29,
   "id": "fd3b75cd-2ce0-4400-bbad-fc3dd6b46659",
   "metadata": {},
   "outputs": [
    {
     "data": {
      "text/plain": [
       "array([ 1,  4, 27])"
      ]
     },
     "execution_count": 29,
     "metadata": {},
     "output_type": "execute_result"
    }
   ],
   "source": [
    "ar1=np.array([1,2,3])\n",
    "ar2=np.array([1,2,3])\n",
    "ans=np.power(ar1,ar2)\n",
    "ans"
   ]
  },
  {
   "cell_type": "code",
   "execution_count": 30,
   "id": "f3a08000-4720-41f5-877d-592408b47177",
   "metadata": {},
   "outputs": [
    {
     "data": {
      "text/plain": [
       "array([1, 0, 0])"
      ]
     },
     "execution_count": 30,
     "metadata": {},
     "output_type": "execute_result"
    }
   ],
   "source": [
    "ar1=np.array([1,2,3])\n",
    "ans=np.reciprocal(ar1)\n",
    "ans"
   ]
  },
  {
   "cell_type": "code",
   "execution_count": 31,
   "id": "ad9b556a-5336-4a84-a59f-ded66a8c2b47",
   "metadata": {},
   "outputs": [
    {
     "data": {
      "text/plain": [
       "array([[2, 4, 6],\n",
       "       [2, 4, 6]])"
      ]
     },
     "execution_count": 31,
     "metadata": {},
     "output_type": "execute_result"
    }
   ],
   "source": [
    "#For Multidimentional \n",
    "ar1=np.array([[1,2,3],[1,2,3]])\n",
    "ar2=np.array([[1,2,3],[1,2,3]])\n",
    "var=ar1+ar2\n",
    "var"
   ]
  },
  {
   "cell_type": "code",
   "execution_count": 32,
   "id": "6009eb28-1da5-4a0d-876b-1b6cd517ecd6",
   "metadata": {},
   "outputs": [
    {
     "data": {
      "text/plain": [
       "array([[1, 4, 9],\n",
       "       [1, 4, 9]])"
      ]
     },
     "execution_count": 32,
     "metadata": {},
     "output_type": "execute_result"
    }
   ],
   "source": [
    "ar1=np.array([[1,2,3],[1,2,3]])\n",
    "ar2=np.array([[1,2,3],[1,2,3]])\n",
    "var=ar1*ar2\n",
    "var"
   ]
  },
  {
   "cell_type": "code",
   "execution_count": 8,
   "id": "6b9f65b7-4a83-43dd-bdb4-6800b4613baf",
   "metadata": {},
   "outputs": [
    {
     "data": {
      "text/plain": [
       "array([[ 1,  4, 27],\n",
       "       [ 1,  4, 27]])"
      ]
     },
     "execution_count": 8,
     "metadata": {},
     "output_type": "execute_result"
    }
   ],
   "source": [
    "ar1=np.array([[1,2,3],[1,2,3]])\n",
    "ar2=np.array([[1,2,3],[1,2,3]])\n",
    "var=ar1**ar2\n",
    "var"
   ]
  },
  {
   "cell_type": "code",
   "execution_count": 9,
   "id": "9598ac2a-dcc8-49b7-a18f-47b5e4c2ec52",
   "metadata": {},
   "outputs": [
    {
     "data": {
      "text/plain": [
       "array([[0, 0, 0],\n",
       "       [0, 0, 0]])"
      ]
     },
     "execution_count": 9,
     "metadata": {},
     "output_type": "execute_result"
    }
   ],
   "source": [
    "ar1=np.array([[1,2,3],[1,2,3]])\n",
    "ar2=np.array([[1,2,3],[1,2,3]])\n",
    "var=ar1%ar2\n",
    "var"
   ]
  },
  {
   "cell_type": "code",
   "execution_count": 7,
   "id": "0c548b95-aff6-4580-805a-2be64306f003",
   "metadata": {},
   "outputs": [
    {
     "data": {
      "text/plain": [
       "array([[1, 1, 1],\n",
       "       [1, 1, 1]])"
      ]
     },
     "execution_count": 7,
     "metadata": {},
     "output_type": "execute_result"
    }
   ],
   "source": [
    "ar1=np.array([[1,2,3],[1,2,3]])\n",
    "ar2=np.array([[1,2,3],[1,2,3]])\n",
    "var=ar1//ar2\n",
    "var"
   ]
  },
  {
   "cell_type": "code",
   "execution_count": 33,
   "id": "1bde25a4-ed7c-4b8d-a8e8-e16fb124eddc",
   "metadata": {},
   "outputs": [
    {
     "data": {
      "text/plain": [
       "array([[2, 4, 6],\n",
       "       [2, 4, 6]])"
      ]
     },
     "execution_count": 33,
     "metadata": {},
     "output_type": "execute_result"
    }
   ],
   "source": [
    "ar1=np.array([[1,2,3],[1,2,3]])\n",
    "ar2=np.array([[1,2,3],[1,2,3]])\n",
    "var=np.add(ar1,ar2)\n",
    "var"
   ]
  },
  {
   "cell_type": "code",
   "execution_count": 43,
   "id": "4fb9a59b-54a9-4529-8b20-67d9e7c39c19",
   "metadata": {},
   "outputs": [
    {
     "name": "stdout",
     "output_type": "stream",
     "text": [
      "min  1  Position is  0\n",
      "max  9  Position is  6\n",
      "sqrt   [1.         1.41421356 1.73205081 2.23606798 2.44948974 2.64575131\n",
      " 3.        ]\n",
      "sin   [ 0.84147098  0.90929743  0.14112001 -0.95892427 -0.2794155   0.6569866\n",
      "  0.41211849]\n",
      "con   [ 0.54030231 -0.41614684 -0.9899925   0.28366219  0.96017029  0.75390225\n",
      " -0.91113026]\n"
     ]
    },
    {
     "data": {
      "text/plain": [
       "7"
      ]
     },
     "execution_count": 43,
     "metadata": {},
     "output_type": "execute_result"
    }
   ],
   "source": [
    "ar1=np.array([1,2,3,5,6,7,9])\n",
    "print(\"min \",np.min(ar1),\" Position is \",np.argmin(ar1) )\n",
    "print(\"max \",np.max(ar1),\" Position is \",np.argmax(ar1) )\n",
    "print(\"sqrt  \",np.sqrt(ar1))\n",
    "print(\"sin  \",np.sin(ar1))\n",
    "print(\"con  \",np.cos(ar1))\n",
    "\n",
    "\n",
    "len(ar1)"
   ]
  },
  {
   "cell_type": "code",
   "execution_count": 45,
   "id": "3d5bf871-757b-4f72-ad41-8c025f94ead0",
   "metadata": {},
   "outputs": [
    {
     "name": "stdout",
     "output_type": "stream",
     "text": [
      "[1. 1. 1. 1. 1. 1. 1. 1. 1. 1.]\n",
      "[ 1.  2.  3.  4.  5.  6.  7.  8.  9. 10.]\n"
     ]
    }
   ],
   "source": [
    "ones=np.ones(10)\n",
    "cumsum=np.cumsum(ones)\n",
    "print(ones)\n",
    "print(cumsum)"
   ]
  },
  {
   "cell_type": "code",
   "execution_count": 40,
   "id": "13831989-9535-4ec7-8144-50ae28184f4c",
   "metadata": {},
   "outputs": [
    {
     "name": "stdout",
     "output_type": "stream",
     "text": [
      "Axis=0 Column   :  min  [1 2 3 4]  Position is  [0 0 0 0]\n",
      "Axis=0 Column   :  max  [3 4 5 6]  Position is  [1 1 1 1]\n",
      "Axis=1 Row   :  min  [1 3]  Position is  [0 0]\n",
      "Axis=1 Row   :  max  [4 6]  Position is  [3 3]\n"
     ]
    },
    {
     "data": {
      "text/plain": [
       "2"
      ]
     },
     "execution_count": 40,
     "metadata": {},
     "output_type": "execute_result"
    }
   ],
   "source": [
    "ar1=np.array([[1,2,3,4],[3,4,5,6]])\n",
    "print(\"Axis=0 Column   :  min \",np.min(ar1,axis=0),\" Position is \",np.argmin(ar1,axis=0) )\n",
    "print(\"Axis=0 Column   :  max \",np.max(ar1,axis=0),\" Position is \",np.argmax(ar1,axis=0) )\n",
    "print(\"Axis=1 Row   :  min \",np.min(ar1,axis=1),\" Position is \",np.argmin(ar1,axis=1) )\n",
    "print(\"Axis=1 Row   :  max \",np.max(ar1,axis=1),\" Position is \",np.argmax(ar1,axis=1) )\n",
    "len(ar1)"
   ]
  },
  {
   "cell_type": "code",
   "execution_count": 6,
   "id": "02480db0-2b4b-4975-8228-82cffc335cb6",
   "metadata": {},
   "outputs": [
    {
     "name": "stdout",
     "output_type": "stream",
     "text": [
      "[[53 62]\n",
      " [69 80]]\n"
     ]
    }
   ],
   "source": [
    "import numpy as np\n",
    "ar1=np.array([[3,7],[4,9]])\n",
    "ar2=np.array([[6,2],[5,8]])\n",
    "ans=ar1@ar2\n",
    "print(ans)\n"
   ]
  },
  {
   "cell_type": "code",
   "execution_count": 10,
   "id": "d5f6c162-e797-48f5-939c-70f85bbfd37d",
   "metadata": {},
   "outputs": [
    {
     "name": "stdout",
     "output_type": "stream",
     "text": [
      "[[3 4]\n",
      " [7 9]]\n"
     ]
    }
   ],
   "source": [
    "ar1=np.array([[3,7],[4,9]])\n",
    "ar2=np.transpose(ar1)\n",
    "print(ar2)"
   ]
  },
  {
   "cell_type": "code",
   "execution_count": null,
   "id": "a8db6c0b-521b-4f2e-990b-2f006d0ef684",
   "metadata": {},
   "outputs": [],
   "source": []
  }
 ],
 "metadata": {
  "kernelspec": {
   "display_name": "Python 3 (ipykernel)",
   "language": "python",
   "name": "python3"
  },
  "language_info": {
   "codemirror_mode": {
    "name": "ipython",
    "version": 3
   },
   "file_extension": ".py",
   "mimetype": "text/x-python",
   "name": "python",
   "nbconvert_exporter": "python",
   "pygments_lexer": "ipython3",
   "version": "3.12.1"
  }
 },
 "nbformat": 4,
 "nbformat_minor": 5
}
