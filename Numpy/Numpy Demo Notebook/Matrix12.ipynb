{
 "cells": [
  {
   "cell_type": "code",
   "execution_count": 2,
   "id": "90523ab0-6c1f-4d25-ab4a-172a21960b9a",
   "metadata": {},
   "outputs": [],
   "source": [
    "#Creation of Matrix\n",
    "import numpy as np"
   ]
  },
  {
   "cell_type": "code",
   "execution_count": 6,
   "id": "d242d04d-2dcf-4304-9366-f2b61da53954",
   "metadata": {},
   "outputs": [
    {
     "name": "stdout",
     "output_type": "stream",
     "text": [
      "[[1 2 3]\n",
      " [1 2 3]]\n",
      "<class 'numpy.ndarray'>\n"
     ]
    }
   ],
   "source": [
    "var=np.array([[1,2,3],[1,2,3]])\n",
    "print(var)\n",
    "print(type(var))"
   ]
  },
  {
   "cell_type": "code",
   "execution_count": 16,
   "id": "088e02e3-f8ba-4e79-807d-a5cfb0ba2c33",
   "metadata": {},
   "outputs": [
    {
     "name": "stdout",
     "output_type": "stream",
     "text": [
      "[[5 8]\n",
      " [5 8]]\n",
      "[[5 8]\n",
      " [5 8]]\n"
     ]
    }
   ],
   "source": [
    "var1=np.matrix([[1,2],[1,2]])\n",
    "var2=np.matrix([[1,2],[2,3]])\n",
    "print(var1*var2)  #This is Matrix multiplication\n",
    "print(var1.dot(var2))"
   ]
  },
  {
   "cell_type": "code",
   "execution_count": 15,
   "id": "8384aac3-4a33-4625-8fa9-65089f58a368",
   "metadata": {},
   "outputs": [],
   "source": [
    "#for multipy matrix we have to use dot() funtion"
   ]
  },
  {
   "cell_type": "code",
   "execution_count": 22,
   "id": "0248ac45-d8da-4286-8c42-6dcb0cec2251",
   "metadata": {},
   "outputs": [
    {
     "name": "stdout",
     "output_type": "stream",
     "text": [
      "[[1 1]\n",
      " [2 2]\n",
      " [3 3]]\n",
      "\n",
      "[[1 1]\n",
      " [2 2]\n",
      " [3 3]]\n",
      "\n",
      "[[1 1]\n",
      " [2 2]\n",
      " [3 3]]\n"
     ]
    }
   ],
   "source": [
    "#Funtion in Matrix\n",
    "#transpose, swapaxes, inverse, power, determinate\n",
    "a=np.matrix([[1,2,3],[1,2,3]])\n",
    "print(np.transpose(a))\n",
    "print()\n",
    "print(a.T)\n",
    "print()\n",
    "print(np.swapaxes(a,0,1)) #convert 0 axis to 1 \n"
   ]
  },
  {
   "cell_type": "code",
   "execution_count": 24,
   "id": "6579b293-41a1-48c1-8a00-cd3e736eb4ea",
   "metadata": {},
   "outputs": [
    {
     "name": "stdout",
     "output_type": "stream",
     "text": [
      "[[1 2]\n",
      " [3 4]]\n",
      "\n",
      "[[1 3]\n",
      " [2 4]]\n"
     ]
    }
   ],
   "source": [
    "a=np.matrix([[1,2],[3,4]])\n",
    "print(a)\n",
    "print()\n",
    "print(np.swapaxes(a,0,1))\n"
   ]
  },
  {
   "cell_type": "code",
   "execution_count": 26,
   "id": "b6ef17ab-37f9-4956-bb91-5db68a15e23d",
   "metadata": {},
   "outputs": [
    {
     "name": "stdout",
     "output_type": "stream",
     "text": [
      "[[1 2]\n",
      " [3 4]]\n",
      "\n",
      "[[-2.   1. ]\n",
      " [ 1.5 -0.5]]\n"
     ]
    }
   ],
   "source": [
    "#Inverse matrix\n",
    "a=np.matrix([[1,2],[3,4]])\n",
    "print(a)\n",
    "print()\n",
    "print(np.linalg.inv(a))"
   ]
  },
  {
   "cell_type": "code",
   "execution_count": 27,
   "id": "23c44b2d-e9a0-416d-ab08-617eb65fc40a",
   "metadata": {},
   "outputs": [
    {
     "name": "stdout",
     "output_type": "stream",
     "text": [
      "[[1 2]\n",
      " [3 4]]\n",
      "\n",
      "[[1 0]\n",
      " [0 1]]\n"
     ]
    }
   ],
   "source": [
    "#Power of matrix\n",
    "a=np.matrix([[1,2],[3,4]])\n",
    "print(a)\n",
    "print()\n",
    "print(np.linalg.matrix_power(a,0)) #for 0 indenetity matrix, for n>0 power multiplication, n<0 inverse into power"
   ]
  },
  {
   "cell_type": "code",
   "execution_count": 29,
   "id": "08dd3fc3-68c9-408d-9021-2335b10d6f42",
   "metadata": {},
   "outputs": [
    {
     "name": "stdout",
     "output_type": "stream",
     "text": [
      "[[1 2]\n",
      " [3 4]]\n",
      "\n",
      "[[ 7 10]\n",
      " [15 22]]\n"
     ]
    }
   ],
   "source": [
    "#Power of matrix\n",
    "a=np.matrix([[1,2],[3,4]])\n",
    "print(a)\n",
    "print()\n",
    "print(np.linalg.matrix_power(a,2))##for 0 indenetity matrix, for n>0 power multiplication, n<0 inverse into power"
   ]
  },
  {
   "cell_type": "code",
   "execution_count": 30,
   "id": "f928a35c-69c1-4fcd-a8be-b92e5234c7ba",
   "metadata": {},
   "outputs": [
    {
     "name": "stdout",
     "output_type": "stream",
     "text": [
      "[[1 2]\n",
      " [3 4]]\n",
      "\n",
      "[[ 5.5  -2.5 ]\n",
      " [-3.75  1.75]]\n"
     ]
    }
   ],
   "source": [
    "#Power of matrix\n",
    "a=np.matrix([[1,2],[3,4]])\n",
    "print(a)\n",
    "print()\n",
    "print(np.linalg.matrix_power(a,-2))##for 0 indenetity matrix, for n>0 power multiplication, n<0 inverse into power"
   ]
  },
  {
   "cell_type": "code",
   "execution_count": 31,
   "id": "7794212e-4172-4c09-a238-d818611ae05b",
   "metadata": {},
   "outputs": [
    {
     "name": "stdout",
     "output_type": "stream",
     "text": [
      "[[1 2]\n",
      " [3 4]]\n",
      "\n",
      "-2.0000000000000004\n"
     ]
    }
   ],
   "source": [
    "#determinant\n",
    "a=np.matrix([[1,2],[3,4]])\n",
    "print(a)\n",
    "print()\n",
    "print(np.linalg.det(a))"
   ]
  },
  {
   "cell_type": "code",
   "execution_count": 36,
   "id": "030a9c52-ba9b-4ff8-b619-3fddf3a8d9e4",
   "metadata": {},
   "outputs": [
    {
     "name": "stdout",
     "output_type": "stream",
     "text": [
      "[[1 2 3]\n",
      " [3 4 1]\n",
      " [1 2 3]]\n",
      "\n",
      "0.0\n"
     ]
    }
   ],
   "source": [
    "#Power of matrix\n",
    "a=np.matrix([[1,2,3],[3,4,1],[1,2,3]])\n",
    "print(a)\n",
    "print()\n",
    "print(np.linalg.det(a))"
   ]
  },
  {
   "cell_type": "code",
   "execution_count": null,
   "id": "a0253eac-bc67-4147-9299-8d18ab1fbf28",
   "metadata": {},
   "outputs": [],
   "source": []
  },
  {
   "cell_type": "code",
   "execution_count": null,
   "id": "ed302904-25a2-43bc-9600-2a26bf2cd810",
   "metadata": {},
   "outputs": [],
   "source": []
  }
 ],
 "metadata": {
  "kernelspec": {
   "display_name": "Python 3 (ipykernel)",
   "language": "python",
   "name": "python3"
  },
  "language_info": {
   "codemirror_mode": {
    "name": "ipython",
    "version": 3
   },
   "file_extension": ".py",
   "mimetype": "text/x-python",
   "name": "python",
   "nbconvert_exporter": "python",
   "pygments_lexer": "ipython3",
   "version": "3.12.1"
  }
 },
 "nbformat": 4,
 "nbformat_minor": 5
}
