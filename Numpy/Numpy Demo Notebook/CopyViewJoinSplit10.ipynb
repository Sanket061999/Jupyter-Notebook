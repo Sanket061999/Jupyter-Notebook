{
 "cells": [
  {
   "cell_type": "code",
   "execution_count": 6,
   "id": "75fac041-e6e5-4d9f-956c-377c0971c69b",
   "metadata": {},
   "outputs": [
    {
     "name": "stdout",
     "output_type": "stream",
     "text": [
      "[ 1  4 31]\n",
      "[ 1  4 31]\n"
     ]
    }
   ],
   "source": [
    "import numpy as np\n",
    "ar=np.array([1,4,31])\n",
    "co=ar.copy() #copy the data\n",
    "print(co)\n",
    "co[1]=1111\n",
    "print(ar)"
   ]
  },
  {
   "cell_type": "code",
   "execution_count": 5,
   "id": "6474500b-397d-4c3a-8177-d87e5a878f36",
   "metadata": {},
   "outputs": [
    {
     "name": "stdout",
     "output_type": "stream",
     "text": [
      "[1 4 3 1]\n",
      "[   1 1111    3    1]\n"
     ]
    }
   ],
   "source": [
    "ar=np.array([1,4,3,1])\n",
    "co=ar.view() #not copy it show the original data if you change this data i.e original data gets changed\n",
    "print(co)\n",
    "co[1]=1111\n",
    "print(ar)"
   ]
  },
  {
   "cell_type": "code",
   "execution_count": 11,
   "id": "1fdf48f2-8714-4e36-83c0-ee7b0464a621",
   "metadata": {},
   "outputs": [
    {
     "name": "stdout",
     "output_type": "stream",
     "text": [
      "[1 4 3 1 6 9 2 7]\n"
     ]
    }
   ],
   "source": [
    "#No. of element should be same to join the array\n",
    "ar1=np.array([1,4,3,1])\n",
    "ar2=np.array([6,9,2,7])\n",
    "arr=np.concatenate((ar1,ar2))\n",
    "print(arr)\n"
   ]
  },
  {
   "cell_type": "code",
   "execution_count": 12,
   "id": "7a97d692-0f0b-48d9-9c90-53319e369c90",
   "metadata": {},
   "outputs": [
    {
     "name": "stdout",
     "output_type": "stream",
     "text": [
      "[[1 4 6 9]\n",
      " [3 1 2 7]]\n",
      "\n",
      "[[1 4]\n",
      " [3 1]\n",
      " [6 9]\n",
      " [2 7]]\n"
     ]
    }
   ],
   "source": [
    "#No. of element should be same to join the array\n",
    "ar1=np.array([[1,4],[3,1]])\n",
    "ar2=np.array([[6,9],[2,7]])\n",
    "arr=np.concatenate((ar1,ar2),axis=1)\n",
    "print(arr)\n",
    "print()\n",
    "arr=np.concatenate((ar1,ar2),axis=0)\n",
    "print(arr)"
   ]
  },
  {
   "cell_type": "code",
   "execution_count": 17,
   "id": "1a718be6-4430-4d57-80ab-d9505770259b",
   "metadata": {},
   "outputs": [
    {
     "name": "stdout",
     "output_type": "stream",
     "text": [
      "[[1 6]\n",
      " [4 9]\n",
      " [3 2]\n",
      " [1 7]]\n",
      "\n",
      "[[1 4 3 1]\n",
      " [6 9 2 7]]\n",
      "---------\n",
      "[1 4 3 1 6 9 2 7]\n",
      "\n",
      "[[1 4 3 1]\n",
      " [6 9 2 7]]\n",
      "\n",
      "[[[1 6]\n",
      "  [4 9]\n",
      "  [3 2]\n",
      "  [1 7]]]\n"
     ]
    }
   ],
   "source": [
    "ar1=np.array([1,4,3,1])\n",
    "ar2=np.array([6,9,2,7])\n",
    "arr=np.stack((ar1,ar2),axis=1)\n",
    "print(arr)\n",
    "print()\n",
    "arr=np.stack((ar1,ar2),axis=0)\n",
    "print(arr)\n",
    "print(\"---------\")\n",
    "arr=np.hstack((ar1,ar2)) #Horizontal\n",
    "print(arr)\n",
    "print()\n",
    "arr=np.vstack((ar1,ar2)) #Vertical or Column\n",
    "print(arr)\n",
    "print()\n",
    "arr=np.dstack((ar1,ar2)) #Height\n",
    "print(arr)"
   ]
  },
  {
   "cell_type": "code",
   "execution_count": 21,
   "id": "51ce89ed-f136-48a1-8af2-28e6120038d6",
   "metadata": {},
   "outputs": [
    {
     "name": "stdout",
     "output_type": "stream",
     "text": [
      "[array([1, 4, 3]), array([1, 2, 3]), array([4, 4, 3])]\n",
      "<class 'list'>\n",
      "[1 4 3]\n"
     ]
    }
   ],
   "source": [
    "#split of an array\n",
    "ar1=np.array([1,4,3,1,2,3,4,4,3])\n",
    "ans1=np.array_split(ar1,3)\n",
    "print(ans1)\n",
    "print(type(ans1))\n",
    "print(ans1[0])"
   ]
  },
  {
   "cell_type": "code",
   "execution_count": 22,
   "id": "e3152f96-97f5-475c-b38e-b0434c7ea399",
   "metadata": {},
   "outputs": [
    {
     "name": "stdout",
     "output_type": "stream",
     "text": [
      "[array([[1, 4, 3]]), array([[1, 2, 3]]), array([[4, 4, 3]])]\n",
      "<class 'list'>\n",
      "[[1 4 3]]\n"
     ]
    }
   ],
   "source": [
    "#split of an array\n",
    "ar1=np.array([[1,4,3],[1,2,3],[4,4,3]])\n",
    "ans1=np.array_split(ar1,3)\n",
    "print(ans1)\n",
    "print(type(ans1))\n",
    "print(ans1[0])"
   ]
  },
  {
   "cell_type": "code",
   "execution_count": 24,
   "id": "d51a382e-bfe2-4999-83aa-18b080483b03",
   "metadata": {},
   "outputs": [
    {
     "name": "stdout",
     "output_type": "stream",
     "text": [
      "[array([[1, 4, 3]]), array([[1, 2, 3]]), array([[4, 4, 3]])]\n",
      "\n",
      "[array([[1],\n",
      "       [1],\n",
      "       [4]]), array([[4],\n",
      "       [2],\n",
      "       [4]]), array([[3],\n",
      "       [3],\n",
      "       [3]])]\n"
     ]
    }
   ],
   "source": [
    "#split of an array along with axis\n",
    "ar1=np.array([[1,4,3],[1,2,3],[4,4,3]])\n",
    "ans1=np.array_split(ar1,3,axis=0)\n",
    "print(ans1)\n",
    "print()\n",
    "ans1=np.array_split(ar1,3,axis=1)\n",
    "print(ans1)\n"
   ]
  },
  {
   "cell_type": "code",
   "execution_count": null,
   "id": "de386177-3ab2-4534-9f2c-2911f180b011",
   "metadata": {},
   "outputs": [],
   "source": []
  }
 ],
 "metadata": {
  "kernelspec": {
   "display_name": "Python 3 (ipykernel)",
   "language": "python",
   "name": "python3"
  },
  "language_info": {
   "codemirror_mode": {
    "name": "ipython",
    "version": 3
   },
   "file_extension": ".py",
   "mimetype": "text/x-python",
   "name": "python",
   "nbconvert_exporter": "python",
   "pygments_lexer": "ipython3",
   "version": "3.12.1"
  }
 },
 "nbformat": 4,
 "nbformat_minor": 5
}
