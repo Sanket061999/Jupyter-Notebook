{
 "cells": [
  {
   "cell_type": "code",
   "execution_count": 1,
   "id": "4fdb2954-b628-4522-8805-ccbe5fed6a11",
   "metadata": {},
   "outputs": [],
   "source": [
    "#To find the shape and reshaping and different variable\n",
    "\"\"\"\n",
    "ndim\n",
    "shape\n",
    "size\n",
    "itemsize\n",
    "dtype\n",
    "ndmin while creating the array\n",
    "\"\"\""
   ]
  },
  {
   "cell_type": "code",
   "execution_count": 2,
   "id": "3dc2ff5c-7943-406e-a5b3-da71858c9f47",
   "metadata": {},
   "outputs": [],
   "source": [
    "import numpy as np"
   ]
  },
  {
   "cell_type": "code",
   "execution_count": null,
   "id": "8b06d479-1d0c-4b77-8522-84eb0487a128",
   "metadata": {},
   "outputs": [],
   "source": []
  },
  {
   "cell_type": "code",
   "execution_count": 8,
   "id": "d59079be-3c9a-494d-86d1-00ceeb06ba65",
   "metadata": {},
   "outputs": [
    {
     "name": "stdout",
     "output_type": "stream",
     "text": [
      "[[1 2 3 4]\n",
      " [1 2 4 5]]\n",
      "\n",
      "(2, 4)\n",
      "\n"
     ]
    }
   ],
   "source": [
    "var= np.array([[1,2,3,4],[1,2,4,5]])\n",
    "print(var)\n",
    "print()\n",
    "print(var.shape)\n",
    "print()"
   ]
  },
  {
   "cell_type": "code",
   "execution_count": 36,
   "id": "aa042f43-dd25-4439-9113-7d1b9c5c544e",
   "metadata": {},
   "outputs": [
    {
     "name": "stdout",
     "output_type": "stream",
     "text": [
      "[[[[1 2 3 4]]]]\n",
      "4\n",
      "(1, 1, 1, 4) shape\n",
      "4 element\n",
      "int64 dtype\n",
      "8 itemsize in type\n"
     ]
    }
   ],
   "source": [
    "var1=np.array([1,2,3,4], ndmin=4, dtype=np.int64)#To set the dimention\n",
    "print(var1)\n",
    "print(var1.ndim)  # to get the dimention\n",
    "print(var1.shape,\"shape\")\n",
    "print(var1.size,\"element\")\n",
    "print(var1.dtype,\"dtype\")\n",
    "print(var1.itemsize,\"itemsize in type\")"
   ]
  },
  {
   "cell_type": "code",
   "execution_count": 30,
   "id": "dcce7449-3eb0-40be-8017-e65eead6648c",
   "metadata": {},
   "outputs": [
    {
     "name": "stdout",
     "output_type": "stream",
     "text": [
      "[1 2 3 4 5 6 7 8 9]\n",
      "1\n",
      "Converting 1D to 2D\n",
      "[[1 2 3]\n",
      " [4 5 6]\n",
      " [7 8 9]]\n",
      "2\n",
      "(3, 3)\n"
     ]
    }
   ],
   "source": [
    "#reshaping of an array\n",
    "var2=np.array([1,2,3,4,5,6,7,8,9])\n",
    "print(var2)\n",
    "print(var2.ndim)\n",
    "print('Converting 1D to 2D')\n",
    "x=var2.reshape(3,3) #first no. is row and 2nd is column\n",
    "print(x)\n",
    "print(x.ndim)\n",
    "print(x.shape)\n"
   ]
  },
  {
   "cell_type": "code",
   "execution_count": 28,
   "id": "7468c765-194e-4cc2-b199-db3109dbecb4",
   "metadata": {},
   "outputs": [
    {
     "name": "stdout",
     "output_type": "stream",
     "text": [
      "[ 1  2  3  4  5  6  7  8  9 10 11 12]\n",
      "1\n",
      "Converting 1D to 3D\n",
      "[[[ 1  2]\n",
      "  [ 3  4]\n",
      "  [ 5  6]]\n",
      "\n",
      " [[ 7  8]\n",
      "  [ 9 10]\n",
      "  [11 12]]]\n",
      "3\n",
      "Converting 3D array to 1D array\n",
      "[ 1  2  3  4  5  6  7  8  9 10 11 12]\n",
      "1\n",
      "(12,)\n"
     ]
    }
   ],
   "source": [
    "var2=np.array([1,2,3,4,5,6,7,8,9,10,11,12])\n",
    "print(var2)\n",
    "print(var2.ndim)\n",
    "print('Converting 1D to 3D')\n",
    "x=var2.reshape(2,3,2)\n",
    "print(x)\n",
    "print(x.ndim)\n",
    "\n",
    "print('Converting 3D array to 1D array')\n",
    "ab=x.reshape(-1)\n",
    "print(ab)\n",
    "print(ab.ndim)\n",
    "print(ab.shape)\n",
    "\n"
   ]
  },
  {
   "cell_type": "code",
   "execution_count": null,
   "id": "d9127b25-f1a3-40b3-ac13-3f7ff12366fc",
   "metadata": {},
   "outputs": [],
   "source": []
  }
 ],
 "metadata": {
  "kernelspec": {
   "display_name": "Python 3 (ipykernel)",
   "language": "python",
   "name": "python3"
  },
  "language_info": {
   "codemirror_mode": {
    "name": "ipython",
    "version": 3
   },
   "file_extension": ".py",
   "mimetype": "text/x-python",
   "name": "python",
   "nbconvert_exporter": "python",
   "pygments_lexer": "ipython3",
   "version": "3.12.1"
  }
 },
 "nbformat": 4,
 "nbformat_minor": 5
}
