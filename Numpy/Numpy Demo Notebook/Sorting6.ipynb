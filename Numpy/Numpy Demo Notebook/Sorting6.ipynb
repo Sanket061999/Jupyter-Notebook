{
 "cells": [
  {
   "cell_type": "code",
   "execution_count": 1,
   "id": "8ab5c003-ce98-4e75-973f-14fcb817367f",
   "metadata": {},
   "outputs": [
    {
     "data": {
      "text/plain": [
       "'\\nsort() will return sorted copy\\nargsort() return the indices that would sort an array\\narray_name.sort() use array name and sort it in place\\n'"
      ]
     },
     "execution_count": 1,
     "metadata": {},
     "output_type": "execute_result"
    }
   ],
   "source": [
    "import numpy as np\n",
    "'''\n",
    "sort() will return sorted copy\n",
    "argsort() return the indices that would sort an array\n",
    "array_name.sort() use array name and sort it in place\n",
    "'''"
   ]
  },
  {
   "cell_type": "code",
   "execution_count": 10,
   "id": "e8290ac5-76bc-4b70-b0dd-1b287a4b825f",
   "metadata": {},
   "outputs": [
    {
     "name": "stdout",
     "output_type": "stream",
     "text": [
      "[ 10  12  15  21  25  31  45  53  55 334 677]\n",
      "[677 334  55  53  45  31  25  21  15  12  10]\n"
     ]
    }
   ],
   "source": [
    "ar=np.array([15,25,53,45,31,21,10,12,334,55,677])\n",
    "arr=np.sort(ar)\n",
    "print(arr)\n",
    "arr2=np.sort(ar)[::-1]\n",
    "print(arr2)"
   ]
  },
  {
   "cell_type": "code",
   "execution_count": 12,
   "id": "d4708cb8-b82c-48e8-a055-56ebb99d5d41",
   "metadata": {},
   "outputs": [
    {
     "name": "stdout",
     "output_type": "stream",
     "text": [
      "[3 0 1 2]\n"
     ]
    }
   ],
   "source": [
    "ar=np.array([1,2,3,0])\n",
    "arr=np.argsort(ar)\n",
    "print(arr)"
   ]
  },
  {
   "cell_type": "code",
   "execution_count": 20,
   "id": "824a6090-63c7-435b-92c8-ca02334ac34a",
   "metadata": {},
   "outputs": [
    {
     "name": "stdout",
     "output_type": "stream",
     "text": [
      "[0 1 2 3]\n"
     ]
    }
   ],
   "source": [
    "ar=np.array([1,2,3,0])\n",
    "ar.sort()\n",
    "print(ar)"
   ]
  },
  {
   "cell_type": "code",
   "execution_count": 24,
   "id": "6b949b1c-42e6-47c5-b833-e455a431ca6f",
   "metadata": {},
   "outputs": [
    {
     "name": "stdout",
     "output_type": "stream",
     "text": [
      "[[11 12 15]\n",
      " [20 21 25]\n",
      " [16 18 27]]\n"
     ]
    }
   ],
   "source": [
    "x=np.array([[12,11,15],[21,25,20],[18,27,16]])\n",
    "y=np.sort(x) #default asix=1\n",
    "print(y)"
   ]
  },
  {
   "cell_type": "code",
   "execution_count": 25,
   "id": "403dbd94-c73c-4224-a7fa-7f9ba2e12ec6",
   "metadata": {},
   "outputs": [
    {
     "name": "stdout",
     "output_type": "stream",
     "text": [
      "[[12 11 15]\n",
      " [18 25 16]\n",
      " [21 27 20]]\n"
     ]
    }
   ],
   "source": [
    "x=np.array([[12,11,15],[21,25,20],[18,27,16]])\n",
    "y=np.sort(x,axis=0) # asix=0 for Column\n",
    "print(y)"
   ]
  },
  {
   "cell_type": "code",
   "execution_count": 26,
   "id": "98705b94-d081-4661-9471-e1bde12d40b2",
   "metadata": {},
   "outputs": [
    {
     "name": "stdout",
     "output_type": "stream",
     "text": [
      "[[1 0 2]\n",
      " [2 0 1]\n",
      " [2 0 1]]\n"
     ]
    }
   ],
   "source": [
    "x=np.array([[12,11,15],[21,25,20],[18,27,16]])\n",
    "y=np.argsort(x) #default asix=1\n",
    "print(y)"
   ]
  },
  {
   "cell_type": "code",
   "execution_count": 27,
   "id": "07e779ae-9b55-45a3-bb35-ae78d8a86aad",
   "metadata": {},
   "outputs": [
    {
     "name": "stdout",
     "output_type": "stream",
     "text": [
      "[[0 0 0]\n",
      " [2 1 2]\n",
      " [1 2 1]]\n"
     ]
    }
   ],
   "source": [
    "x=np.array([[12,11,15],[21,25,20],[18,27,16]])\n",
    "y=np.argsort(x,axis=0) #default asix=1\n",
    "print(y)"
   ]
  },
  {
   "cell_type": "code",
   "execution_count": 30,
   "id": "9e722720-f2f3-4208-890a-3c931b3fa021",
   "metadata": {},
   "outputs": [
    {
     "name": "stdout",
     "output_type": "stream",
     "text": [
      "[[11 12 15]\n",
      " [20 21 25]\n",
      " [16 18 27]]\n",
      "------------\n",
      "[[12 11 15]\n",
      " [18 25 16]\n",
      " [21 27 20]]\n"
     ]
    }
   ],
   "source": [
    "x=np.array([[12,11,15],[21,25,20],[18,27,16]])\n",
    "x.sort()\n",
    "print(x)\n",
    "print('------------')\n",
    "x=np.array([[12,11,15],[21,25,20],[18,27,16]])\n",
    "x.sort(axis=0)\n",
    "print(x)"
   ]
  },
  {
   "cell_type": "code",
   "execution_count": null,
   "id": "f15cc9f1-6eb5-4d0a-a812-f482c4a5e20b",
   "metadata": {},
   "outputs": [],
   "source": []
  }
 ],
 "metadata": {
  "kernelspec": {
   "display_name": "Python 3 (ipykernel)",
   "language": "python",
   "name": "python3"
  },
  "language_info": {
   "codemirror_mode": {
    "name": "ipython",
    "version": 3
   },
   "file_extension": ".py",
   "mimetype": "text/x-python",
   "name": "python",
   "nbconvert_exporter": "python",
   "pygments_lexer": "ipython3",
   "version": "3.12.1"
  }
 },
 "nbformat": 4,
 "nbformat_minor": 5
}
