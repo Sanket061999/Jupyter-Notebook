{
 "cells": [
  {
   "cell_type": "code",
   "execution_count": 1,
   "id": "974a9dd4-9447-4fb6-aafd-00f531bb5a23",
   "metadata": {},
   "outputs": [],
   "source": [
    "#shuffle, unique resize, flatten(convert 2D array to 1D array), revel"
   ]
  },
  {
   "cell_type": "code",
   "execution_count": 2,
   "id": "f7470e48-0c00-4b62-9d9f-601f3bfc90c2",
   "metadata": {},
   "outputs": [],
   "source": [
    "import numpy as np"
   ]
  },
  {
   "cell_type": "code",
   "execution_count": 7,
   "id": "53c2cd92-69c7-4619-9f05-9e1d04c1b2f9",
   "metadata": {},
   "outputs": [
    {
     "name": "stdout",
     "output_type": "stream",
     "text": [
      "[2 5 6 3 2 4 6 8 3 1 4 7 5]\n"
     ]
    }
   ],
   "source": [
    "arr= np.array([1,2,3,4,5,6,7,8,2,3,4,5,6])\n",
    "np.random.shuffle(arr)\n",
    "print(arr)\n"
   ]
  },
  {
   "cell_type": "code",
   "execution_count": 15,
   "id": "2f0727af-239a-42b5-a4dd-eeb567dd041c",
   "metadata": {},
   "outputs": [
    {
     "name": "stdout",
     "output_type": "stream",
     "text": [
      "[1 2 3 4 5 6 7 8]\n",
      "(array([1, 2, 3, 4, 5, 6, 7, 8]), array([0, 1, 2, 3, 4, 5, 6, 7], dtype=int64))\n",
      "(array([1, 2, 3, 4, 5, 6, 7, 8]), array([1, 2, 2, 2, 2, 2, 1, 1], dtype=int64))\n",
      "(array([1, 2, 3, 4, 5, 6, 7, 8]), array([0, 1, 2, 3, 4, 5, 6, 7], dtype=int64), array([1, 2, 2, 2, 2, 2, 1, 1], dtype=int64))\n"
     ]
    }
   ],
   "source": [
    "arr= np.array([1,2,3,4,5,6,7,8,2,3,4,5,6])\n",
    "x=np.unique(arr)\n",
    "y=np.unique(arr,return_index=True)\n",
    "z=np.unique(arr,return_counts=True)\n",
    "zz=np.unique(arr,return_index=True, return_counts=True)\n",
    "print(x)\n",
    "print(y)\n",
    "print(z)\n",
    "print(zz)"
   ]
  },
  {
   "cell_type": "code",
   "execution_count": 18,
   "id": "7f657b68-7651-46c1-91cb-967259d3183d",
   "metadata": {},
   "outputs": [
    {
     "name": "stdout",
     "output_type": "stream",
     "text": [
      "[[1 2 3]\n",
      " [4 5 6]\n",
      " [7 8 2]]\n"
     ]
    }
   ],
   "source": [
    "arr= np.array([1,2,3,4,5,6,7,8,2])\n",
    "var=np.resize(arr,(3,3))\n",
    "print(var)"
   ]
  },
  {
   "cell_type": "code",
   "execution_count": 20,
   "id": "3d452d3d-ed9d-4f69-b4dd-c0758a1e6e7c",
   "metadata": {},
   "outputs": [],
   "source": [
    "#flatten(convert 2D array) {C,F,A,K}\n",
    "#C is default i.e. row major or C-style\n",
    "#F is column-major\n",
    "#A is column-major order if a is Fortrain contiguors in memory, row-major order otherwise.\n",
    "#K is flatten 'a' in the order the elements occur in memory "
   ]
  },
  {
   "cell_type": "code",
   "execution_count": 33,
   "id": "2ef19dc7-b081-4a9d-92d2-0fe0396de3da",
   "metadata": {},
   "outputs": [
    {
     "name": "stdout",
     "output_type": "stream",
     "text": [
      "[[1 2 3]\n",
      " [4 5 6]\n",
      " [7 8 2]]\n",
      "-Default is C----\n",
      "[1 2 3 4 5 6 7 8 2]\n",
      "--flatten---\n",
      "[1 4 7 2 5 8 3 6 2]\n",
      "****\n",
      "[1 2 3 4 5 6 7 8 2]\n",
      "---revel---\n",
      "[1 2 3 4 5 6 7 8 2]\n",
      "------\n",
      "[1 4 7 2 5 8 3 6 2]\n"
     ]
    }
   ],
   "source": [
    "arr= np.array([1,2,3,4,5,6,7,8,2])\n",
    "var=np.resize(arr,(3,3))\n",
    "print(var)\n",
    "print(\"-Default is C----\")\n",
    "\n",
    "print(var.flatten())\n",
    "print(\"--flatten---\")\n",
    "print(var.flatten(order='F'))\n",
    "print(('****'))\n",
    "print(var.flatten(order='C'))\n",
    "var\n",
    "print(\"---revel---\")\n",
    "print(np.ravel(var)) #C is default\n",
    "print('------')\n",
    "print(np.ravel(var,order='F'))"
   ]
  },
  {
   "cell_type": "code",
   "execution_count": null,
   "id": "73712854-77c9-464d-a60c-b903f02c09cd",
   "metadata": {},
   "outputs": [],
   "source": [
    "d"
   ]
  }
 ],
 "metadata": {
  "kernelspec": {
   "display_name": "Python 3 (ipykernel)",
   "language": "python",
   "name": "python3"
  },
  "language_info": {
   "codemirror_mode": {
    "name": "ipython",
    "version": 3
   },
   "file_extension": ".py",
   "mimetype": "text/x-python",
   "name": "python",
   "nbconvert_exporter": "python",
   "pygments_lexer": "ipython3",
   "version": "3.12.1"
  }
 },
 "nbformat": 4,
 "nbformat_minor": 5
}
